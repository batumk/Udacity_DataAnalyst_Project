{
 "cells": [
  {
   "cell_type": "markdown",
   "metadata": {},
   "source": [
    "# 统计学：决策的科学项目说明\n",
    "## 背景信息\n",
    "在一个 Stroop （斯特鲁普）任务中，参与者得到了一列文字，每个文字都用一种油墨颜色展示。参与者的任务是将文字的打印颜色大声说出来。这项任务有两个条件：一致文字条件，和不一致文字条件。在一致文字条件中，显示的文字是与它们的打印颜色匹配的颜色词，如“红色”、“蓝色”。在不一致文字条件中，显示的文字是与它们的打印颜色不匹配的颜色词，如“紫色”、“橙色”。在每个情况中，我们将计量说出同等大小的列表中的墨色名称的时间。每位参与者必须全部完成并记录每种条件下使用的时间。\n",
    "\n",
    "## 调查问题\n",
    "作为一般说明，请确保记录你在创建项目时使用或参考的任何资源。作为项目提交的一部分，你将需要报告信息来源。\n",
    "\n",
    "### 我们的自变量是什么？因变量是什么？\n",
    "- 自变量：congruent(一致任务), incongruent（不一致任务）\n",
    "- 因变量：time(完成任务的时间)\n",
    "\n",
    "### 此任务的适当假设集是什么？你想执行什么类型的统计测试？为你的选择提供正当理由。\n",
    "\n",
    "- 零假设：在总体中，一致任务情况下完成的时间大于等于不一致任务情况下完成的时间。\n",
    "- 对立假设：在总体中， 一致任务情况下完成的时间小于不一致任务情况下完成的时间。\n",
    "\n",
    "- 一致任务时，总体中完成任务的平均时间是：$t_1$\n",
    "- 不一致任务时，总体中完成任务的平均时间是：$t_2$\n",
    "- 零假设$H_0$：$t_1-t_2≥0$\n",
    "- 对立假设$H_1$：$t_1-t_2<0$\n",
    "\n",
    "- **执行的验证**：执行统计学中的假设检验中的成对的 $t$ 验证。\n",
    "- **原因**：因为此实验针对一个对象，观察改变任务性质前后的变化。\n",
    "\n",
    "### 报告关于此数据集的一些描述性统计。包含至少一个集中趋势测量和至少一个变异测量。\n"
   ]
  },
  {
   "cell_type": "code",
   "execution_count": 1,
   "metadata": {},
   "outputs": [],
   "source": [
    "# importing libaries\n",
    "import pandas as pd\n",
    "import numpy as np\n",
    "import matplotlib.pyplot as plt"
   ]
  },
  {
   "cell_type": "code",
   "execution_count": 2,
   "metadata": {},
   "outputs": [
    {
     "data": {
      "text/html": [
       "<div>\n",
       "<style scoped>\n",
       "    .dataframe tbody tr th:only-of-type {\n",
       "        vertical-align: middle;\n",
       "    }\n",
       "\n",
       "    .dataframe tbody tr th {\n",
       "        vertical-align: top;\n",
       "    }\n",
       "\n",
       "    .dataframe thead th {\n",
       "        text-align: right;\n",
       "    }\n",
       "</style>\n",
       "<table border=\"1\" class=\"dataframe\">\n",
       "  <thead>\n",
       "    <tr style=\"text-align: right;\">\n",
       "      <th></th>\n",
       "      <th>Congruent</th>\n",
       "      <th>Incongruent</th>\n",
       "    </tr>\n",
       "  </thead>\n",
       "  <tbody>\n",
       "    <tr>\n",
       "      <th>0</th>\n",
       "      <td>12.079</td>\n",
       "      <td>19.278</td>\n",
       "    </tr>\n",
       "    <tr>\n",
       "      <th>1</th>\n",
       "      <td>16.791</td>\n",
       "      <td>18.741</td>\n",
       "    </tr>\n",
       "    <tr>\n",
       "      <th>2</th>\n",
       "      <td>9.564</td>\n",
       "      <td>21.214</td>\n",
       "    </tr>\n",
       "    <tr>\n",
       "      <th>3</th>\n",
       "      <td>8.630</td>\n",
       "      <td>15.687</td>\n",
       "    </tr>\n",
       "    <tr>\n",
       "      <th>4</th>\n",
       "      <td>14.669</td>\n",
       "      <td>22.803</td>\n",
       "    </tr>\n",
       "  </tbody>\n",
       "</table>\n",
       "</div>"
      ],
      "text/plain": [
       "   Congruent  Incongruent\n",
       "0     12.079       19.278\n",
       "1     16.791       18.741\n",
       "2      9.564       21.214\n",
       "3      8.630       15.687\n",
       "4     14.669       22.803"
      ]
     },
     "execution_count": 2,
     "metadata": {},
     "output_type": "execute_result"
    }
   ],
   "source": [
    "#loading data\n",
    "df = pd.read_csv('stroopdata.csv')\n",
    "df.head()"
   ]
  },
  {
   "cell_type": "code",
   "execution_count": 3,
   "metadata": {},
   "outputs": [
    {
     "data": {
      "text/html": [
       "<div>\n",
       "<style scoped>\n",
       "    .dataframe tbody tr th:only-of-type {\n",
       "        vertical-align: middle;\n",
       "    }\n",
       "\n",
       "    .dataframe tbody tr th {\n",
       "        vertical-align: top;\n",
       "    }\n",
       "\n",
       "    .dataframe thead th {\n",
       "        text-align: right;\n",
       "    }\n",
       "</style>\n",
       "<table border=\"1\" class=\"dataframe\">\n",
       "  <thead>\n",
       "    <tr style=\"text-align: right;\">\n",
       "      <th></th>\n",
       "      <th>Congruent</th>\n",
       "      <th>Incongruent</th>\n",
       "    </tr>\n",
       "  </thead>\n",
       "  <tbody>\n",
       "    <tr>\n",
       "      <th>count</th>\n",
       "      <td>24.000000</td>\n",
       "      <td>24.000000</td>\n",
       "    </tr>\n",
       "    <tr>\n",
       "      <th>mean</th>\n",
       "      <td>14.051125</td>\n",
       "      <td>22.015917</td>\n",
       "    </tr>\n",
       "    <tr>\n",
       "      <th>std</th>\n",
       "      <td>3.559358</td>\n",
       "      <td>4.797057</td>\n",
       "    </tr>\n",
       "    <tr>\n",
       "      <th>min</th>\n",
       "      <td>8.630000</td>\n",
       "      <td>15.687000</td>\n",
       "    </tr>\n",
       "    <tr>\n",
       "      <th>25%</th>\n",
       "      <td>11.895250</td>\n",
       "      <td>18.716750</td>\n",
       "    </tr>\n",
       "    <tr>\n",
       "      <th>50%</th>\n",
       "      <td>14.356500</td>\n",
       "      <td>21.017500</td>\n",
       "    </tr>\n",
       "    <tr>\n",
       "      <th>75%</th>\n",
       "      <td>16.200750</td>\n",
       "      <td>24.051500</td>\n",
       "    </tr>\n",
       "    <tr>\n",
       "      <th>max</th>\n",
       "      <td>22.328000</td>\n",
       "      <td>35.255000</td>\n",
       "    </tr>\n",
       "  </tbody>\n",
       "</table>\n",
       "</div>"
      ],
      "text/plain": [
       "       Congruent  Incongruent\n",
       "count  24.000000    24.000000\n",
       "mean   14.051125    22.015917\n",
       "std     3.559358     4.797057\n",
       "min     8.630000    15.687000\n",
       "25%    11.895250    18.716750\n",
       "50%    14.356500    21.017500\n",
       "75%    16.200750    24.051500\n",
       "max    22.328000    35.255000"
      ]
     },
     "execution_count": 3,
     "metadata": {},
     "output_type": "execute_result"
    }
   ],
   "source": [
    "# print the descriptive statistics\n",
    "df.describe()"
   ]
  },
  {
   "cell_type": "markdown",
   "metadata": {},
   "source": [
    "#### 数据集的集中性测量：\n",
    "\n",
    "| |Congruent|Congruent|\n",
    "|-|-|-|\n",
    "|平均数|14.05|22.02|\n",
    "|中位数|14.37|21.02|"
   ]
  },
  {
   "cell_type": "code",
   "execution_count": 4,
   "metadata": {},
   "outputs": [
    {
     "data": {
      "text/plain": [
       "(4.3054999999999986, 5.33475)"
      ]
     },
     "execution_count": 4,
     "metadata": {},
     "output_type": "execute_result"
    }
   ],
   "source": [
    "IQR_con = df.describe()['Congruent']['75%']-df.describe()['Congruent']['25%']\n",
    "IQR_incon = df.describe()['Incongruent']['75%']-df.describe()['Incongruent']['25%']\n",
    "IQR_con,IQR_incon"
   ]
  },
  {
   "cell_type": "markdown",
   "metadata": {},
   "source": [
    "#### 数据集的变异性测量：\n",
    "| |Congruent|Congruent|\n",
    "|-|-|-|\n",
    "|标准方差|3.56|4.80|\n",
    "|四分位差|4.31|5.33|"
   ]
  },
  {
   "cell_type": "markdown",
   "metadata": {},
   "source": [
    "### 提供显示样本数据分布的一个或两个可视化。用一两句话说明你从图中观察到的结果。"
   ]
  },
  {
   "cell_type": "code",
   "execution_count": 5,
   "metadata": {},
   "outputs": [
    {
     "data": {
      "image/png": "[encoded data removed]",
      "text/plain": [
       "<Figure size 432x288 with 1 Axes>"
      ]
     },
     "metadata": {},
     "output_type": "display_data"
    }
   ],
   "source": [
    "df[['Congruent','Incongruent']].plot(kind = 'box');\n",
    "plt.ylabel('Time');"
   ]
  },
  {
   "cell_type": "code",
   "execution_count": 6,
   "metadata": {},
   "outputs": [
    {
     "data": {
      "image/png": "[encoded data removed]",
      "text/plain": [
       "<Figure size 432x288 with 2 Axes>"
      ]
     },
     "metadata": {},
     "output_type": "display_data"
    }
   ],
   "source": [
    "df[['Congruent','Incongruent']].hist();\n",
    "plt.xlabel('Time');\n",
    "plt.ylabel('Counts');"
   ]
  },
  {
   "cell_type": "markdown",
   "metadata": {},
   "source": [
    "**结合上面箱线图和直方图**，可以看出Congruent(任务一致性)的数据无异常值，Incongruent(任务不一致性)的数据有异常值。图片上呈现的异常值，不是决定异常，也具有相对合理性，决定保留这两个点。\n",
    "\n",
    "### 现在，执行统计测试并报告你的结果。你的置信水平和关键统计值是多少？你是否成功拒绝零假设？对试验任务得出一个结论。结果是否与你的期望一致？"
   ]
  },
  {
   "cell_type": "code",
   "execution_count": 7,
   "metadata": {},
   "outputs": [],
   "source": [
    "#caculate the sample diff time\n",
    "df['diff_time'] = df['Congruent']-df['Incongruent']\n",
    "\n",
    "#sampling 100000 times from diff_time sample by bootstrapping. \n",
    "#And then caculate sample mean of each sample, append it to diff_mean_list\n",
    "diff_mean_list = []\n",
    "for _ in range(100000):\n",
    "    s = df['diff_time'].sample(24, replace = True)\n",
    "    mean = s.mean()\n",
    "    diff_mean_list.append(mean)\n",
    "    \n",
    "# diff_mean_list is the list of every sample mean"
   ]
  },
  {
   "cell_type": "markdown",
   "metadata": {},
   "source": [
    "#### 计算置信区间"
   ]
  },
  {
   "cell_type": "code",
   "execution_count": 8,
   "metadata": {},
   "outputs": [
    {
     "data": {
      "text/plain": [
       "(-9.960833333333333, -6.157666666666667)"
      ]
     },
     "execution_count": 8,
     "metadata": {},
     "output_type": "execute_result"
    }
   ],
   "source": [
    "diff_mean_list = np.array(diff_mean_list)\n",
    "lower = np.percentile(diff_mean_list,2.5)\n",
    "upper = np.percentile(diff_mean_list,97.5)\n",
    "lower, upper"
   ]
  },
  {
   "cell_type": "code",
   "execution_count": 9,
   "metadata": {},
   "outputs": [
    {
     "data": {
      "image/png": "[encoded data removed]",
      "text/plain": [
       "<Figure size 432x288 with 1 Axes>"
      ]
     },
     "metadata": {},
     "output_type": "display_data"
    }
   ],
   "source": [
    "plt.hist(diff_mean_list, bins=25)\n",
    "plt.title('Difference of Time')\n",
    "plt.xlabel('Time difference')\n",
    "plt.ylabel('Frequency')\n",
    "plt.axvline(x=lower, color='r', linestyle='dashed', linewidth=1, label=\"Lower Bound\")\n",
    "plt.axvline(x=upper, color='g', linestyle='dashed', linewidth=1, label=\"Upper Bound\")\n",
    "plt.legend()\n",
    "plt.show()"
   ]
  },
  {
   "cell_type": "markdown",
   "metadata": {},
   "source": [
    "- 计算diff_mean_list的2.5%位和97.5%位的值，分别是-9.94, -6.16\n",
    "- 可得出结论，当置信度为95%时，$t_1-t_2$值在-9.94到-6.16的范围内。如上图\n",
    "- 由此我们可以得出，我们拒绝零假设，一致任务情况下完成的时间小于不一致任务情况下完成的时间。"
   ]
  },
  {
   "cell_type": "markdown",
   "metadata": {},
   "source": [
    "#### 用正态分布模拟零假设的值，来计算P值"
   ]
  },
  {
   "cell_type": "code",
   "execution_count": 10,
   "metadata": {},
   "outputs": [
    {
     "data": {
      "text/plain": [
       "0.9722571672934144"
      ]
     },
     "execution_count": 10,
     "metadata": {},
     "output_type": "execute_result"
    }
   ],
   "source": [
    "# caculate the std of the diff_mean_list\n",
    "diff_mean_std = np.std(diff_mean_list)\n",
    "diff_mean_std"
   ]
  },
  {
   "cell_type": "code",
   "execution_count": 11,
   "metadata": {},
   "outputs": [],
   "source": [
    "#simulate the distribution of t1-t2 mean under null hypothesis\n",
    "null_val = np.random.normal(loc=0,scale=0.967,size = 100000)"
   ]
  },
  {
   "cell_type": "code",
   "execution_count": 12,
   "metadata": {},
   "outputs": [],
   "source": [
    "#caculate the mean of time_diff sample\n",
    "mean_s = df['diff_time'].mean()"
   ]
  },
  {
   "cell_type": "code",
   "execution_count": 14,
   "metadata": {},
   "outputs": [
    {
     "data": {
      "text/plain": [
       "0.0"
      ]
     },
     "execution_count": 14,
     "metadata": {},
     "output_type": "execute_result"
    }
   ],
   "source": [
    "#compare the null_val with mean_s, and caculate the p_value\n",
    "p_val = (null_val < mean_s).mean()\n",
    "p_val"
   ]
  },
  {
   "cell_type": "code",
   "execution_count": 16,
   "metadata": {},
   "outputs": [
    {
     "data": {
      "image/png": "[encoded data removed]",
      "text/plain": [
       "<Figure size 432x288 with 1 Axes>"
      ]
     },
     "metadata": {},
     "output_type": "display_data"
    }
   ],
   "source": [
    "# Plot histogram\n",
    "plt.hist(null_val, bins=25)\n",
    "plt.title('Simulated Difference of Time Under Null')\n",
    "plt.xlabel('Time difference')\n",
    "plt.ylabel('Frequency')\n",
    "plt.axvline(x=mean_s, color='r', linestyle='dashed', linewidth=1, label=\"Real difference\")\n",
    "plt.legend()\n",
    "plt.show()"
   ]
  },
  {
   "cell_type": "markdown",
   "metadata": {},
   "source": [
    "- 用正态分布模拟零假设为真情况的时间差平均值，其中μ=0， σ=0.967, 得到null_val\n",
    "- 计算我们当前样本的$t_1-t_2$差的平均值，其值为-7.96.\n",
    "- 正态分布得到值与样本的时间差的平均值比较，计算P值，P值为0，如上图\n",
    "- 可以得出结论：样本来自零假设可能性很小，拒绝零假设，一致任务情况下完成的时间小于不一致任务情况下完成的时间。"
   ]
  },
  {
   "cell_type": "markdown",
   "metadata": {},
   "source": [
    "### 可选：你觉得导致所观察到的效应的原因是什么？你是否能想到会取得类似效应的替代或类似任务？进行一些调查研究将有助于你思考这两个问题！\n",
    "- **原因**：我们对于两个刺激反映速度不同，这个实验中我们对文字刺激反映速度更快，但对颜色刺激反映速度相对慢，但是任务是我们要说出看到的颜色。\n",
    "- **类似任务**：对母语和第二语言的刺激，提供同时有母语和第二语言的卡牌，任务是要求根据第二语言来从提供的四张图片中选择正确解释的图片。\n"
   ]
  },
  {
   "cell_type": "code",
   "execution_count": null,
   "metadata": {},
   "outputs": [],
   "source": []
  }
 ],
 "metadata": {
  "kernelspec": {
   "display_name": "Python [conda env:py3]",
   "language": "python",
   "name": "conda-env-py3-py"
  },
  "language_info": {
   "codemirror_mode": {
    "name": "ipython",
    "version": 3
   },
   "file_extension": ".py",
   "mimetype": "text/x-python",
   "name": "python",
   "nbconvert_exporter": "python",
   "pygments_lexer": "ipython3",
   "version": "3.6.5"
  },
  "toc": {
   "base_numbering": 1,
   "nav_menu": {},
   "number_sections": true,
   "sideBar": true,
   "skip_h1_title": false,
   "title_cell": "Table of Contents",
   "title_sidebar": "Contents",
   "toc_cell": false,
   "toc_position": {},
   "toc_section_display": true,
   "toc_window_display": true
  }
 },
 "nbformat": 4,
 "nbformat_minor": 2
}
