{
 "cells": [
  {
   "cell_type": "markdown",
   "metadata": {},
   "source": [
    "# 项目：分析WeRateDogs的推特数据\n",
    "\n",
    "> 通过完成本项目来提高数据整理技能。\n",
    "\n",
    "by **Batu Mengkai**\n",
    "\n",
    "## 目录\n",
    "1. [简介](#intro)\n",
    "2. [整理数据](#wrangling)\n",
    "3. [探索性数据分析](#exploration)\n",
    "4. [结论](#conculsion)"
   ]
  },
  {
   "cell_type": "markdown",
   "metadata": {},
   "source": [
    "<a id=\"intro\">"
   ]
  },
  {
   "cell_type": "markdown",
   "metadata": {},
   "source": [
    "## 1. 简介\n",
    "### 1.1 背景\n",
    "WeRateDogs是一个推特主，他以诙谐幽默的方式对人们的宠物狗评分。这些评分通常以 10 作为分母。但是分子则一般大于 10：11/10、12/10、13/10 等等。WeRateDogs拥有四百多万关注者，曾受到国际媒体的报道。WeRateDogs下载了他们的推特档案，专门为本项目使用。这个档案是基本的推特数据（推特ID、时间戳、推特文本等），包含了截止到 2017 年 4 月 1 日的 5000 多条推特。\n",
    "\n",
    "### 1.2 项目目标\n",
    "清洗 WeRateDogs 推特数据，创建有趣且可靠的分析和可视化。这份推特只包含基本的推特信息。在分析和可视化前，还需要收集额外的数据、然后进行评估和清洗。\n",
    "\n",
    "### 1.2 探索的问题\n",
    "- 问题1：推特主一天当中喜欢在哪个时段发推特？一周当中喜欢在哪天发推特？\n",
    "- 问题2：推特主对狗的评分高低是否与其粉丝中的大多数喜好一致？\n",
    "- 问题3：哪种地位的狗狗最受人们喜欢？\n",
    "- 问题4：随着时间的推移，点赞数和转发数是怎么变化的？"
   ]
  },
  {
   "cell_type": "markdown",
   "metadata": {},
   "source": [
    "<a id=\"wrangling\">"
   ]
  },
  {
   "cell_type": "markdown",
   "metadata": {},
   "source": [
    "## 2. 整理数据\n",
    "### 2.1 收集数据"
   ]
  },
  {
   "cell_type": "code",
   "execution_count": 1,
   "metadata": {},
   "outputs": [],
   "source": [
    "#导入相关的库\n",
    "import numpy as np\n",
    "import pandas as pd\n",
    "import matplotlib.pyplot as plt\n",
    "import requests\n",
    "import os\n",
    "import json\n",
    "from datetime import datetime as dt\n",
    "import matplotlib.pyplot as plt\n",
    "import seaborn as sns\n",
    "%matplotlib inline"
   ]
  },
  {
   "cell_type": "markdown",
   "metadata": {},
   "source": [
    "- **数据来源1：** 手头文件，WeRateDogs提供的推特档案文件 `twitter-archive-enhanced.csv`\n",
    "- **数据来源2：**通过编程下载url如下的文件文件`image-predictions.tsv`,文件链接地址url如下\n",
    "\n",
    "url = https://raw.githubusercontent.com/udacity/new-dand-advanced-china/master/%E6%95%B0%E6%8D%AE%E6%B8%85%E6%B4%97/WeRateDogs%E9%A1%B9%E7%9B%AE/image-predictions.tsv\n",
    "\n",
    "**作者所在新疆地区不能访问该链接，所以没有使用编程下载成功，通过其他同学分享获得该文件，但代码如下**"
   ]
  },
  {
   "cell_type": "code",
   "execution_count": 2,
   "metadata": {},
   "outputs": [],
   "source": [
    "#url = 'https://raw.githubusercontent.com/udacity/new-dand-advanced-china/master/%E6%95%B0%E6%8D%AE%E6%B8%85%E6%B4%97/WeRateDogs%E9%A1%B9%E7%9B%AE/image-predictions.tsv'\n",
    "#response = requests.get(url)\n",
    "#print(response) #查看是否请求成功\n",
    "\n",
    "#if not os.path.exists('./image-predictions.tsv'):\n",
    "#    with open('./image-predictions.tsv',mode = 'wb') as file:\n",
    "#        file.write(response.content)\n",
    "\n",
    "#检查文件是否下载成功\n",
    "#os.listdirs(./)"
   ]
  },
  {
   "cell_type": "markdown",
   "metadata": {},
   "source": [
    "- **数据来源3：**手头文件，`tweet_json.txt`\n",
    "\n",
    "### 2.2 评估数据\n",
    "#### 2.2.1 目视评估"
   ]
  },
  {
   "cell_type": "code",
   "execution_count": 3,
   "metadata": {},
   "outputs": [],
   "source": [
    "#加载数据\n",
    "twitter_archive = pd.read_csv('twitter-archive-enhanced.csv')\n",
    "twitter_image = pd.read_csv('image-predictions.tsv',sep='\\t')\n",
    "with open('tweet_json.txt',mode = 'r') as file:\n",
    "    json_list = []\n",
    "    for line in file:\n",
    "        temp = json.loads(line)\n",
    "        json_list.append({\n",
    "                            'tweet_id': temp['id'],\n",
    "                            'retweet_count': temp['retweet_count'],\n",
    "                            'favorite_count': temp['favorite_count'] })\n",
    "\n",
    "tweet_json = pd.DataFrame(json_list)"
   ]
  },
  {
   "cell_type": "code",
   "execution_count": 4,
   "metadata": {
    "scrolled": true
   },
   "outputs": [
    {
     "data": {
      "text/html": [
       "<div>\n",
       "<style scoped>\n",
       "    .dataframe tbody tr th:only-of-type {\n",
       "        vertical-align: middle;\n",
       "    }\n",
       "\n",
       "    .dataframe tbody tr th {\n",
       "        vertical-align: top;\n",
       "    }\n",
       "\n",
       "    .dataframe thead th {\n",
       "        text-align: right;\n",
       "    }\n",
       "</style>\n",
       "<table border=\"1\" class=\"dataframe\">\n",
       "  <thead>\n",
       "    <tr style=\"text-align: right;\">\n",
       "      <th></th>\n",
       "      <th>tweet_id</th>\n",
       "      <th>in_reply_to_status_id</th>\n",
       "      <th>in_reply_to_user_id</th>\n",
       "      <th>timestamp</th>\n",
       "      <th>source</th>\n",
       "      <th>text</th>\n",
       "      <th>retweeted_status_id</th>\n",
       "      <th>retweeted_status_user_id</th>\n",
       "      <th>retweeted_status_timestamp</th>\n",
       "      <th>expanded_urls</th>\n",
       "      <th>rating_numerator</th>\n",
       "      <th>rating_denominator</th>\n",
       "      <th>name</th>\n",
       "      <th>doggo</th>\n",
       "      <th>floofer</th>\n",
       "      <th>pupper</th>\n",
       "      <th>puppo</th>\n",
       "    </tr>\n",
       "  </thead>\n",
       "  <tbody>\n",
       "    <tr>\n",
       "      <th>1692</th>\n",
       "      <td>681302363064414209</td>\n",
       "      <td>NaN</td>\n",
       "      <td>NaN</td>\n",
       "      <td>2015-12-28 02:35:15 +0000</td>\n",
       "      <td>&lt;a href=\"http://twitter.com/download/iphone\" r...</td>\n",
       "      <td>This is Chuck. He's a neat dog. Very flexible....</td>\n",
       "      <td>NaN</td>\n",
       "      <td>NaN</td>\n",
       "      <td>NaN</td>\n",
       "      <td>https://twitter.com/dog_rates/status/681302363...</td>\n",
       "      <td>3</td>\n",
       "      <td>10</td>\n",
       "      <td>Chuck</td>\n",
       "      <td>None</td>\n",
       "      <td>None</td>\n",
       "      <td>None</td>\n",
       "      <td>None</td>\n",
       "    </tr>\n",
       "    <tr>\n",
       "      <th>1651</th>\n",
       "      <td>683498322573824003</td>\n",
       "      <td>NaN</td>\n",
       "      <td>NaN</td>\n",
       "      <td>2016-01-03 04:01:13 +0000</td>\n",
       "      <td>&lt;a href=\"http://twitter.com/download/iphone\" r...</td>\n",
       "      <td>This is Griffin. He's desperate for both a phy...</td>\n",
       "      <td>NaN</td>\n",
       "      <td>NaN</td>\n",
       "      <td>NaN</td>\n",
       "      <td>https://twitter.com/dog_rates/status/683498322...</td>\n",
       "      <td>11</td>\n",
       "      <td>10</td>\n",
       "      <td>Griffin</td>\n",
       "      <td>None</td>\n",
       "      <td>None</td>\n",
       "      <td>None</td>\n",
       "      <td>None</td>\n",
       "    </tr>\n",
       "    <tr>\n",
       "      <th>2227</th>\n",
       "      <td>668268907921326080</td>\n",
       "      <td>NaN</td>\n",
       "      <td>NaN</td>\n",
       "      <td>2015-11-22 03:24:58 +0000</td>\n",
       "      <td>&lt;a href=\"http://twitter.com/download/iphone\" r...</td>\n",
       "      <td>Here we have an Azerbaijani Buttermilk named G...</td>\n",
       "      <td>NaN</td>\n",
       "      <td>NaN</td>\n",
       "      <td>NaN</td>\n",
       "      <td>https://twitter.com/dog_rates/status/668268907...</td>\n",
       "      <td>10</td>\n",
       "      <td>10</td>\n",
       "      <td>None</td>\n",
       "      <td>None</td>\n",
       "      <td>None</td>\n",
       "      <td>None</td>\n",
       "      <td>None</td>\n",
       "    </tr>\n",
       "    <tr>\n",
       "      <th>1788</th>\n",
       "      <td>677557565589463040</td>\n",
       "      <td>NaN</td>\n",
       "      <td>NaN</td>\n",
       "      <td>2015-12-17 18:34:46 +0000</td>\n",
       "      <td>&lt;a href=\"http://twitter.com/download/iphone\" r...</td>\n",
       "      <td>Reckless pupper here. Not even looking at road...</td>\n",
       "      <td>NaN</td>\n",
       "      <td>NaN</td>\n",
       "      <td>NaN</td>\n",
       "      <td>https://twitter.com/dog_rates/status/677557565...</td>\n",
       "      <td>10</td>\n",
       "      <td>10</td>\n",
       "      <td>None</td>\n",
       "      <td>None</td>\n",
       "      <td>None</td>\n",
       "      <td>pupper</td>\n",
       "      <td>None</td>\n",
       "    </tr>\n",
       "    <tr>\n",
       "      <th>985</th>\n",
       "      <td>749075273010798592</td>\n",
       "      <td>NaN</td>\n",
       "      <td>NaN</td>\n",
       "      <td>2016-07-02 03:00:36 +0000</td>\n",
       "      <td>&lt;a href=\"http://vine.co\" rel=\"nofollow\"&gt;Vine -...</td>\n",
       "      <td>This is Boomer. He's self-baptizing. Other dog...</td>\n",
       "      <td>NaN</td>\n",
       "      <td>NaN</td>\n",
       "      <td>NaN</td>\n",
       "      <td>https://vine.co/v/5ztZvHgI17r</td>\n",
       "      <td>11</td>\n",
       "      <td>10</td>\n",
       "      <td>Boomer</td>\n",
       "      <td>doggo</td>\n",
       "      <td>None</td>\n",
       "      <td>None</td>\n",
       "      <td>None</td>\n",
       "    </tr>\n",
       "  </tbody>\n",
       "</table>\n",
       "</div>"
      ],
      "text/plain": [
       "                tweet_id  in_reply_to_status_id  in_reply_to_user_id  \\\n",
       "1692  681302363064414209                    NaN                  NaN   \n",
       "1651  683498322573824003                    NaN                  NaN   \n",
       "2227  668268907921326080                    NaN                  NaN   \n",
       "1788  677557565589463040                    NaN                  NaN   \n",
       "985   749075273010798592                    NaN                  NaN   \n",
       "\n",
       "                      timestamp  \\\n",
       "1692  2015-12-28 02:35:15 +0000   \n",
       "1651  2016-01-03 04:01:13 +0000   \n",
       "2227  2015-11-22 03:24:58 +0000   \n",
       "1788  2015-12-17 18:34:46 +0000   \n",
       "985   2016-07-02 03:00:36 +0000   \n",
       "\n",
       "                                                 source  \\\n",
       "1692  <a href=\"http://twitter.com/download/iphone\" r...   \n",
       "1651  <a href=\"http://twitter.com/download/iphone\" r...   \n",
       "2227  <a href=\"http://twitter.com/download/iphone\" r...   \n",
       "1788  <a href=\"http://twitter.com/download/iphone\" r...   \n",
       "985   <a href=\"http://vine.co\" rel=\"nofollow\">Vine -...   \n",
       "\n",
       "                                                   text  retweeted_status_id  \\\n",
       "1692  This is Chuck. He's a neat dog. Very flexible....                  NaN   \n",
       "1651  This is Griffin. He's desperate for both a phy...                  NaN   \n",
       "2227  Here we have an Azerbaijani Buttermilk named G...                  NaN   \n",
       "1788  Reckless pupper here. Not even looking at road...                  NaN   \n",
       "985   This is Boomer. He's self-baptizing. Other dog...                  NaN   \n",
       "\n",
       "      retweeted_status_user_id retweeted_status_timestamp  \\\n",
       "1692                       NaN                        NaN   \n",
       "1651                       NaN                        NaN   \n",
       "2227                       NaN                        NaN   \n",
       "1788                       NaN                        NaN   \n",
       "985                        NaN                        NaN   \n",
       "\n",
       "                                          expanded_urls  rating_numerator  \\\n",
       "1692  https://twitter.com/dog_rates/status/681302363...                 3   \n",
       "1651  https://twitter.com/dog_rates/status/683498322...                11   \n",
       "2227  https://twitter.com/dog_rates/status/668268907...                10   \n",
       "1788  https://twitter.com/dog_rates/status/677557565...                10   \n",
       "985                       https://vine.co/v/5ztZvHgI17r                11   \n",
       "\n",
       "      rating_denominator     name  doggo floofer  pupper puppo  \n",
       "1692                  10    Chuck   None    None    None  None  \n",
       "1651                  10  Griffin   None    None    None  None  \n",
       "2227                  10     None   None    None    None  None  \n",
       "1788                  10     None   None    None  pupper  None  \n",
       "985                   10   Boomer  doggo    None    None  None  "
      ]
     },
     "execution_count": 4,
     "metadata": {},
     "output_type": "execute_result"
    }
   ],
   "source": [
    "#随机打印数据\n",
    "twitter_archive.sample(5)"
   ]
  },
  {
   "cell_type": "code",
   "execution_count": 5,
   "metadata": {
    "scrolled": false
   },
   "outputs": [
    {
     "data": {
      "text/html": [
       "<div>\n",
       "<style scoped>\n",
       "    .dataframe tbody tr th:only-of-type {\n",
       "        vertical-align: middle;\n",
       "    }\n",
       "\n",
       "    .dataframe tbody tr th {\n",
       "        vertical-align: top;\n",
       "    }\n",
       "\n",
       "    .dataframe thead th {\n",
       "        text-align: right;\n",
       "    }\n",
       "</style>\n",
       "<table border=\"1\" class=\"dataframe\">\n",
       "  <thead>\n",
       "    <tr style=\"text-align: right;\">\n",
       "      <th></th>\n",
       "      <th>tweet_id</th>\n",
       "      <th>jpg_url</th>\n",
       "      <th>img_num</th>\n",
       "      <th>p1</th>\n",
       "      <th>p1_conf</th>\n",
       "      <th>p1_dog</th>\n",
       "      <th>p2</th>\n",
       "      <th>p2_conf</th>\n",
       "      <th>p2_dog</th>\n",
       "      <th>p3</th>\n",
       "      <th>p3_conf</th>\n",
       "      <th>p3_dog</th>\n",
       "    </tr>\n",
       "  </thead>\n",
       "  <tbody>\n",
       "    <tr>\n",
       "      <th>1628</th>\n",
       "      <td>804738756058218496</td>\n",
       "      <td>https://pbs.twimg.com/media/CysBn-lWIAAoRx1.jpg</td>\n",
       "      <td>1</td>\n",
       "      <td>Tibetan_mastiff</td>\n",
       "      <td>0.915790</td>\n",
       "      <td>True</td>\n",
       "      <td>German_shepherd</td>\n",
       "      <td>0.062480</td>\n",
       "      <td>True</td>\n",
       "      <td>Leonberg</td>\n",
       "      <td>0.008297</td>\n",
       "      <td>True</td>\n",
       "    </tr>\n",
       "    <tr>\n",
       "      <th>1404</th>\n",
       "      <td>769695466921623552</td>\n",
       "      <td>https://pbs.twimg.com/media/Cq6B8V6XYAA1T1R.jpg</td>\n",
       "      <td>1</td>\n",
       "      <td>pug</td>\n",
       "      <td>0.407117</td>\n",
       "      <td>True</td>\n",
       "      <td>muzzle</td>\n",
       "      <td>0.165638</td>\n",
       "      <td>False</td>\n",
       "      <td>kuvasz</td>\n",
       "      <td>0.045837</td>\n",
       "      <td>True</td>\n",
       "    </tr>\n",
       "    <tr>\n",
       "      <th>281</th>\n",
       "      <td>671122204919246848</td>\n",
       "      <td>https://pbs.twimg.com/media/CVBOFTLWwAAzlNi.jpg</td>\n",
       "      <td>1</td>\n",
       "      <td>goose</td>\n",
       "      <td>0.351957</td>\n",
       "      <td>False</td>\n",
       "      <td>Chihuahua</td>\n",
       "      <td>0.101228</td>\n",
       "      <td>True</td>\n",
       "      <td>hen</td>\n",
       "      <td>0.065818</td>\n",
       "      <td>False</td>\n",
       "    </tr>\n",
       "    <tr>\n",
       "      <th>209</th>\n",
       "      <td>669972011175813120</td>\n",
       "      <td>https://pbs.twimg.com/media/CUw3_QiUEAA8cT9.jpg</td>\n",
       "      <td>1</td>\n",
       "      <td>teddy</td>\n",
       "      <td>0.953071</td>\n",
       "      <td>False</td>\n",
       "      <td>koala</td>\n",
       "      <td>0.007027</td>\n",
       "      <td>False</td>\n",
       "      <td>fur_coat</td>\n",
       "      <td>0.005368</td>\n",
       "      <td>False</td>\n",
       "    </tr>\n",
       "    <tr>\n",
       "      <th>366</th>\n",
       "      <td>672902681409806336</td>\n",
       "      <td>https://pbs.twimg.com/media/CVahaz9XAAA8uTy.jpg</td>\n",
       "      <td>1</td>\n",
       "      <td>ram</td>\n",
       "      <td>0.374466</td>\n",
       "      <td>False</td>\n",
       "      <td>bighorn</td>\n",
       "      <td>0.159621</td>\n",
       "      <td>False</td>\n",
       "      <td>Arabian_camel</td>\n",
       "      <td>0.111919</td>\n",
       "      <td>False</td>\n",
       "    </tr>\n",
       "  </tbody>\n",
       "</table>\n",
       "</div>"
      ],
      "text/plain": [
       "                tweet_id                                          jpg_url  \\\n",
       "1628  804738756058218496  https://pbs.twimg.com/media/CysBn-lWIAAoRx1.jpg   \n",
       "1404  769695466921623552  https://pbs.twimg.com/media/Cq6B8V6XYAA1T1R.jpg   \n",
       "281   671122204919246848  https://pbs.twimg.com/media/CVBOFTLWwAAzlNi.jpg   \n",
       "209   669972011175813120  https://pbs.twimg.com/media/CUw3_QiUEAA8cT9.jpg   \n",
       "366   672902681409806336  https://pbs.twimg.com/media/CVahaz9XAAA8uTy.jpg   \n",
       "\n",
       "      img_num               p1   p1_conf  p1_dog               p2   p2_conf  \\\n",
       "1628        1  Tibetan_mastiff  0.915790    True  German_shepherd  0.062480   \n",
       "1404        1              pug  0.407117    True           muzzle  0.165638   \n",
       "281         1            goose  0.351957   False        Chihuahua  0.101228   \n",
       "209         1            teddy  0.953071   False            koala  0.007027   \n",
       "366         1              ram  0.374466   False          bighorn  0.159621   \n",
       "\n",
       "      p2_dog             p3   p3_conf  p3_dog  \n",
       "1628    True       Leonberg  0.008297    True  \n",
       "1404   False         kuvasz  0.045837    True  \n",
       "281     True            hen  0.065818   False  \n",
       "209    False       fur_coat  0.005368   False  \n",
       "366    False  Arabian_camel  0.111919   False  "
      ]
     },
     "execution_count": 5,
     "metadata": {},
     "output_type": "execute_result"
    }
   ],
   "source": [
    "twitter_image.sample(5)"
   ]
  },
  {
   "cell_type": "code",
   "execution_count": 6,
   "metadata": {},
   "outputs": [
    {
     "data": {
      "text/html": [
       "<div>\n",
       "<style scoped>\n",
       "    .dataframe tbody tr th:only-of-type {\n",
       "        vertical-align: middle;\n",
       "    }\n",
       "\n",
       "    .dataframe tbody tr th {\n",
       "        vertical-align: top;\n",
       "    }\n",
       "\n",
       "    .dataframe thead th {\n",
       "        text-align: right;\n",
       "    }\n",
       "</style>\n",
       "<table border=\"1\" class=\"dataframe\">\n",
       "  <thead>\n",
       "    <tr style=\"text-align: right;\">\n",
       "      <th></th>\n",
       "      <th>favorite_count</th>\n",
       "      <th>retweet_count</th>\n",
       "      <th>tweet_id</th>\n",
       "    </tr>\n",
       "  </thead>\n",
       "  <tbody>\n",
       "    <tr>\n",
       "      <th>2219</th>\n",
       "      <td>653</td>\n",
       "      <td>318</td>\n",
       "      <td>668297328638447616</td>\n",
       "    </tr>\n",
       "    <tr>\n",
       "      <th>633</th>\n",
       "      <td>11908</td>\n",
       "      <td>2772</td>\n",
       "      <td>793500921481273345</td>\n",
       "    </tr>\n",
       "    <tr>\n",
       "      <th>1705</th>\n",
       "      <td>2888</td>\n",
       "      <td>811</td>\n",
       "      <td>680609293079592961</td>\n",
       "    </tr>\n",
       "    <tr>\n",
       "      <th>137</th>\n",
       "      <td>27416</td>\n",
       "      <td>5351</td>\n",
       "      <td>865359393868664832</td>\n",
       "    </tr>\n",
       "    <tr>\n",
       "      <th>559</th>\n",
       "      <td>7919</td>\n",
       "      <td>1700</td>\n",
       "      <td>802600418706604034</td>\n",
       "    </tr>\n",
       "  </tbody>\n",
       "</table>\n",
       "</div>"
      ],
      "text/plain": [
       "      favorite_count  retweet_count            tweet_id\n",
       "2219             653            318  668297328638447616\n",
       "633            11908           2772  793500921481273345\n",
       "1705            2888            811  680609293079592961\n",
       "137            27416           5351  865359393868664832\n",
       "559             7919           1700  802600418706604034"
      ]
     },
     "execution_count": 6,
     "metadata": {},
     "output_type": "execute_result"
    }
   ],
   "source": [
    "tweet_json.sample(5)"
   ]
  },
  {
   "cell_type": "markdown",
   "metadata": {},
   "source": [
    "**通过用excel及随机打印等方式观察数据发现以下问题：**\n",
    " \n",
    " `twitter-archive-enhanced.csv`文件中\n",
    "- rating_numerator和rating_denominator列内容是数字，但是数字不准确\n",
    "- 含有转发的信息内容，不需要转发的内容\n",
    "- doggo，floofer,pupper,puppo这几列是属于一个变量\n",
    "- 空值表示方式有NaN, None两种"
   ]
  },
  {
   "cell_type": "markdown",
   "metadata": {},
   "source": [
    "#### 2.2.2 代码评估"
   ]
  },
  {
   "cell_type": "code",
   "execution_count": 7,
   "metadata": {},
   "outputs": [],
   "source": [
    "#备份数据\n",
    "twitter_archive_clean = twitter_archive.copy()\n",
    "twitter_image_clean = twitter_image.copy()\n",
    "tweet_json_clean = tweet_json.copy()"
   ]
  },
  {
   "cell_type": "markdown",
   "metadata": {},
   "source": [
    "为不影响代码评估，先将NaN,None两种表示空值方式统一成NaN,代码如下："
   ]
  },
  {
   "cell_type": "code",
   "execution_count": 8,
   "metadata": {},
   "outputs": [],
   "source": [
    "twitter_archive_clean = twitter_archive_clean.replace('None',np.nan)\n",
    "twitter_image_clean = twitter_image_clean.replace('None',np.nan)\n",
    "tweet_json_clean = tweet_json_clean.replace('None',np.nan)"
   ]
  },
  {
   "cell_type": "code",
   "execution_count": 9,
   "metadata": {
    "scrolled": true
   },
   "outputs": [
    {
     "name": "stdout",
     "output_type": "stream",
     "text": [
      "<class 'pandas.core.frame.DataFrame'>\n",
      "RangeIndex: 2356 entries, 0 to 2355\n",
      "Data columns (total 17 columns):\n",
      "tweet_id                      2356 non-null int64\n",
      "in_reply_to_status_id         78 non-null float64\n",
      "in_reply_to_user_id           78 non-null float64\n",
      "timestamp                     2356 non-null object\n",
      "source                        2356 non-null object\n",
      "text                          2356 non-null object\n",
      "retweeted_status_id           181 non-null float64\n",
      "retweeted_status_user_id      181 non-null float64\n",
      "retweeted_status_timestamp    181 non-null object\n",
      "expanded_urls                 2297 non-null object\n",
      "rating_numerator              2356 non-null int64\n",
      "rating_denominator            2356 non-null int64\n",
      "name                          1611 non-null object\n",
      "doggo                         97 non-null object\n",
      "floofer                       10 non-null object\n",
      "pupper                        257 non-null object\n",
      "puppo                         30 non-null object\n",
      "dtypes: float64(4), int64(3), object(10)\n",
      "memory usage: 313.0+ KB\n"
     ]
    }
   ],
   "source": [
    "twitter_archive_clean.info()"
   ]
  },
  {
   "cell_type": "markdown",
   "metadata": {},
   "source": [
    "`twitter-archive-enhanced.csv`文件存在的问题：\n",
    "- timestamp列,retweeted_status_timestamp列数据类型是object\n",
    "- 含有181个retweeted_status_id，retweeted_status_user_id，retweeted_status_timestamp的数据，我们不需要转发数据\n",
    "- tweet_id列数据类型是int,in_reply_to_status_id和in_reply_to_user_id列数据类型是float,应该是字符串\n",
    "- in_reply_to_status_id,in_reply_to_user_id,retweeted_status_id,retweeted_status_user_id,retweeted_status_timestamp等列数据缺失"
   ]
  },
  {
   "cell_type": "code",
   "execution_count": 10,
   "metadata": {},
   "outputs": [
    {
     "data": {
      "text/plain": [
       "0"
      ]
     },
     "execution_count": 10,
     "metadata": {},
     "output_type": "execute_result"
    }
   ],
   "source": [
    "#查看是否有冗余数据\n",
    "twitter_archive_clean.duplicated().sum()"
   ]
  },
  {
   "cell_type": "code",
   "execution_count": 11,
   "metadata": {},
   "outputs": [
    {
     "data": {
      "text/plain": [
       "0"
      ]
     },
     "execution_count": 11,
     "metadata": {},
     "output_type": "execute_result"
    }
   ],
   "source": [
    "#查看tweet_id是否有重复\n",
    "twitter_archive_clean['tweet_id'].duplicated().sum()"
   ]
  },
  {
   "cell_type": "code",
   "execution_count": 12,
   "metadata": {},
   "outputs": [
    {
     "data": {
      "text/plain": [
       "12      558\n",
       "11      464\n",
       "10      461\n",
       "13      351\n",
       "9       158\n",
       "8       102\n",
       "7        55\n",
       "14       54\n",
       "5        37\n",
       "6        32\n",
       "3        19\n",
       "4        17\n",
       "1         9\n",
       "2         9\n",
       "420       2\n",
       "0         2\n",
       "15        2\n",
       "75        2\n",
       "80        1\n",
       "20        1\n",
       "24        1\n",
       "26        1\n",
       "44        1\n",
       "50        1\n",
       "60        1\n",
       "165       1\n",
       "84        1\n",
       "88        1\n",
       "144       1\n",
       "182       1\n",
       "143       1\n",
       "666       1\n",
       "960       1\n",
       "1776      1\n",
       "17        1\n",
       "27        1\n",
       "45        1\n",
       "99        1\n",
       "121       1\n",
       "204       1\n",
       "Name: rating_numerator, dtype: int64"
      ]
     },
     "execution_count": 12,
     "metadata": {},
     "output_type": "execute_result"
    }
   ],
   "source": [
    "#查看rating_numerator列数据情况\n",
    "twitter_archive_clean['rating_numerator'].value_counts()"
   ]
  },
  {
   "cell_type": "code",
   "execution_count": 13,
   "metadata": {},
   "outputs": [],
   "source": [
    "pd.set_option('max_colwidth',200)"
   ]
  },
  {
   "cell_type": "code",
   "execution_count": 14,
   "metadata": {},
   "outputs": [
    {
     "data": {
      "text/html": [
       "<div>\n",
       "<style scoped>\n",
       "    .dataframe tbody tr th:only-of-type {\n",
       "        vertical-align: middle;\n",
       "    }\n",
       "\n",
       "    .dataframe tbody tr th {\n",
       "        vertical-align: top;\n",
       "    }\n",
       "\n",
       "    .dataframe thead th {\n",
       "        text-align: right;\n",
       "    }\n",
       "</style>\n",
       "<table border=\"1\" class=\"dataframe\">\n",
       "  <thead>\n",
       "    <tr style=\"text-align: right;\">\n",
       "      <th></th>\n",
       "      <th>retweeted_status_id</th>\n",
       "      <th>text</th>\n",
       "      <th>rating_numerator</th>\n",
       "    </tr>\n",
       "  </thead>\n",
       "  <tbody>\n",
       "    <tr>\n",
       "      <th>188</th>\n",
       "      <td>NaN</td>\n",
       "      <td>@dhmontgomery We also gave snoop dogg a 420/10 but I think that predated your research</td>\n",
       "      <td>420</td>\n",
       "    </tr>\n",
       "    <tr>\n",
       "      <th>189</th>\n",
       "      <td>NaN</td>\n",
       "      <td>@s8n You tried very hard to portray this good boy as not so good, but you have ultimately failed. His goodness shines through. 666/10</td>\n",
       "      <td>666</td>\n",
       "    </tr>\n",
       "    <tr>\n",
       "      <th>290</th>\n",
       "      <td>NaN</td>\n",
       "      <td>@markhoppus 182/10</td>\n",
       "      <td>182</td>\n",
       "    </tr>\n",
       "    <tr>\n",
       "      <th>313</th>\n",
       "      <td>NaN</td>\n",
       "      <td>@jonnysun @Lin_Manuel ok jomny I know you're excited but 960/00 isn't a valid rating, 13/10 is tho</td>\n",
       "      <td>960</td>\n",
       "    </tr>\n",
       "    <tr>\n",
       "      <th>340</th>\n",
       "      <td>7.867091e+17</td>\n",
       "      <td>RT @dog_rates: This is Logan, the Chow who lived. He solemnly swears he's up to lots of good. H*ckin magical af 9.75/10 https://t.co/yBO5wu…</td>\n",
       "      <td>75</td>\n",
       "    </tr>\n",
       "    <tr>\n",
       "      <th>433</th>\n",
       "      <td>NaN</td>\n",
       "      <td>The floofs have been released I repeat the floofs have been released. 84/70 https://t.co/NIYC820tmd</td>\n",
       "      <td>84</td>\n",
       "    </tr>\n",
       "    <tr>\n",
       "      <th>516</th>\n",
       "      <td>NaN</td>\n",
       "      <td>Meet Sam. She smiles 24/7 &amp;amp; secretly aspires to be a reindeer. \\nKeep Sam smiling by clicking and sharing this link:\\nhttps://t.co/98tB8y7y7t https://t.co/LouL5vdvxx</td>\n",
       "      <td>24</td>\n",
       "    </tr>\n",
       "    <tr>\n",
       "      <th>695</th>\n",
       "      <td>NaN</td>\n",
       "      <td>This is Logan, the Chow who lived. He solemnly swears he's up to lots of good. H*ckin magical af 9.75/10 https://t.co/yBO5wuqaPS</td>\n",
       "      <td>75</td>\n",
       "    </tr>\n",
       "    <tr>\n",
       "      <th>763</th>\n",
       "      <td>NaN</td>\n",
       "      <td>This is Sophie. She's a Jubilant Bush Pupper. Super h*ckin rare. Appears at random just to smile at the locals. 11.27/10 would smile back https://t.co/QFaUiIHxHq</td>\n",
       "      <td>27</td>\n",
       "    </tr>\n",
       "    <tr>\n",
       "      <th>902</th>\n",
       "      <td>NaN</td>\n",
       "      <td>Why does this never happen at my front door... 165/150 https://t.co/HmwrdfEfUE</td>\n",
       "      <td>165</td>\n",
       "    </tr>\n",
       "    <tr>\n",
       "      <th>979</th>\n",
       "      <td>NaN</td>\n",
       "      <td>This is Atticus. He's quite simply America af. 1776/10 https://t.co/GRXwMxLBkh</td>\n",
       "      <td>1776</td>\n",
       "    </tr>\n",
       "    <tr>\n",
       "      <th>1120</th>\n",
       "      <td>NaN</td>\n",
       "      <td>Say hello to this unbelievably well behaved squad of doggos. 204/170 would try to pet all at once https://t.co/yGQI3He3xv</td>\n",
       "      <td>204</td>\n",
       "    </tr>\n",
       "    <tr>\n",
       "      <th>1202</th>\n",
       "      <td>NaN</td>\n",
       "      <td>This is Bluebert. He just saw that both #FinalFur match ups are split 50/50. Amazed af. 11/10 https://t.co/Kky1DPG4iq</td>\n",
       "      <td>50</td>\n",
       "    </tr>\n",
       "    <tr>\n",
       "      <th>1228</th>\n",
       "      <td>NaN</td>\n",
       "      <td>Happy Saturday here's 9 puppers on a bench. 99/90 good work everybody https://t.co/mpvaVxKmc1</td>\n",
       "      <td>99</td>\n",
       "    </tr>\n",
       "    <tr>\n",
       "      <th>1254</th>\n",
       "      <td>NaN</td>\n",
       "      <td>Here's a brigade of puppers. All look very prepared for whatever happens next. 80/80 https://t.co/0eb7R1Om12</td>\n",
       "      <td>80</td>\n",
       "    </tr>\n",
       "    <tr>\n",
       "      <th>1274</th>\n",
       "      <td>NaN</td>\n",
       "      <td>From left to right:\\nCletus, Jerome, Alejandro, Burp, &amp;amp; Titson\\nNone know where camera is. 45/50 would hug all at once https://t.co/sedre1ivTK</td>\n",
       "      <td>45</td>\n",
       "    </tr>\n",
       "    <tr>\n",
       "      <th>1351</th>\n",
       "      <td>NaN</td>\n",
       "      <td>Here is a whole flock of puppers.  60/50 I'll take the lot https://t.co/9dpcw6MdWa</td>\n",
       "      <td>60</td>\n",
       "    </tr>\n",
       "    <tr>\n",
       "      <th>1433</th>\n",
       "      <td>NaN</td>\n",
       "      <td>Happy Wednesday here's a bucket of pups. 44/40 would pet all at once https://t.co/HppvrYuamZ</td>\n",
       "      <td>44</td>\n",
       "    </tr>\n",
       "    <tr>\n",
       "      <th>1634</th>\n",
       "      <td>NaN</td>\n",
       "      <td>Two sneaky puppers were not initially seen, moving the rating to 143/130. Please forgive us. Thank you https://t.co/kRK51Y5ac3</td>\n",
       "      <td>143</td>\n",
       "    </tr>\n",
       "    <tr>\n",
       "      <th>1635</th>\n",
       "      <td>NaN</td>\n",
       "      <td>Someone help the girl is being mugged. Several are distracting her while two steal her shoes. Clever puppers 121/110 https://t.co/1zfnTJLt55</td>\n",
       "      <td>121</td>\n",
       "    </tr>\n",
       "    <tr>\n",
       "      <th>1712</th>\n",
       "      <td>NaN</td>\n",
       "      <td>Here we have uncovered an entire battalion of holiday puppers. Average of 11.26/10 https://t.co/eNm2S6p9BD</td>\n",
       "      <td>26</td>\n",
       "    </tr>\n",
       "    <tr>\n",
       "      <th>1779</th>\n",
       "      <td>NaN</td>\n",
       "      <td>IT'S PUPPERGEDDON. Total of 144/120 ...I think https://t.co/ZanVtAtvIq</td>\n",
       "      <td>144</td>\n",
       "    </tr>\n",
       "    <tr>\n",
       "      <th>1843</th>\n",
       "      <td>NaN</td>\n",
       "      <td>Here we have an entire platoon of puppers. Total score: 88/80 would pet all at once https://t.co/y93p6FLvVw</td>\n",
       "      <td>88</td>\n",
       "    </tr>\n",
       "    <tr>\n",
       "      <th>2074</th>\n",
       "      <td>NaN</td>\n",
       "      <td>After so many requests... here you go.\\n\\nGood dogg. 420/10 https://t.co/yfAAo1gdeY</td>\n",
       "      <td>420</td>\n",
       "    </tr>\n",
       "  </tbody>\n",
       "</table>\n",
       "</div>"
      ],
      "text/plain": [
       "      retweeted_status_id  \\\n",
       "188                   NaN   \n",
       "189                   NaN   \n",
       "290                   NaN   \n",
       "313                   NaN   \n",
       "340          7.867091e+17   \n",
       "433                   NaN   \n",
       "516                   NaN   \n",
       "695                   NaN   \n",
       "763                   NaN   \n",
       "902                   NaN   \n",
       "979                   NaN   \n",
       "1120                  NaN   \n",
       "1202                  NaN   \n",
       "1228                  NaN   \n",
       "1254                  NaN   \n",
       "1274                  NaN   \n",
       "1351                  NaN   \n",
       "1433                  NaN   \n",
       "1634                  NaN   \n",
       "1635                  NaN   \n",
       "1712                  NaN   \n",
       "1779                  NaN   \n",
       "1843                  NaN   \n",
       "2074                  NaN   \n",
       "\n",
       "                                                                                                                                                                           text  \\\n",
       "188                                                                                      @dhmontgomery We also gave snoop dogg a 420/10 but I think that predated your research   \n",
       "189                                       @s8n You tried very hard to portray this good boy as not so good, but you have ultimately failed. His goodness shines through. 666/10   \n",
       "290                                                                                                                                                          @markhoppus 182/10   \n",
       "313                                                                          @jonnysun @Lin_Manuel ok jomny I know you're excited but 960/00 isn't a valid rating, 13/10 is tho   \n",
       "340                                RT @dog_rates: This is Logan, the Chow who lived. He solemnly swears he's up to lots of good. H*ckin magical af 9.75/10 https://t.co/yBO5wu…   \n",
       "433                                                                         The floofs have been released I repeat the floofs have been released. 84/70 https://t.co/NIYC820tmd   \n",
       "516   Meet Sam. She smiles 24/7 &amp; secretly aspires to be a reindeer. \\nKeep Sam smiling by clicking and sharing this link:\\nhttps://t.co/98tB8y7y7t https://t.co/LouL5vdvxx   \n",
       "695                                            This is Logan, the Chow who lived. He solemnly swears he's up to lots of good. H*ckin magical af 9.75/10 https://t.co/yBO5wuqaPS   \n",
       "763           This is Sophie. She's a Jubilant Bush Pupper. Super h*ckin rare. Appears at random just to smile at the locals. 11.27/10 would smile back https://t.co/QFaUiIHxHq   \n",
       "902                                                                                              Why does this never happen at my front door... 165/150 https://t.co/HmwrdfEfUE   \n",
       "979                                                                                              This is Atticus. He's quite simply America af. 1776/10 https://t.co/GRXwMxLBkh   \n",
       "1120                                                  Say hello to this unbelievably well behaved squad of doggos. 204/170 would try to pet all at once https://t.co/yGQI3He3xv   \n",
       "1202                                                      This is Bluebert. He just saw that both #FinalFur match ups are split 50/50. Amazed af. 11/10 https://t.co/Kky1DPG4iq   \n",
       "1228                                                                              Happy Saturday here's 9 puppers on a bench. 99/90 good work everybody https://t.co/mpvaVxKmc1   \n",
       "1254                                                               Here's a brigade of puppers. All look very prepared for whatever happens next. 80/80 https://t.co/0eb7R1Om12   \n",
       "1274                         From left to right:\\nCletus, Jerome, Alejandro, Burp, &amp; Titson\\nNone know where camera is. 45/50 would hug all at once https://t.co/sedre1ivTK   \n",
       "1351                                                                                         Here is a whole flock of puppers.  60/50 I'll take the lot https://t.co/9dpcw6MdWa   \n",
       "1433                                                                               Happy Wednesday here's a bucket of pups. 44/40 would pet all at once https://t.co/HppvrYuamZ   \n",
       "1634                                             Two sneaky puppers were not initially seen, moving the rating to 143/130. Please forgive us. Thank you https://t.co/kRK51Y5ac3   \n",
       "1635                               Someone help the girl is being mugged. Several are distracting her while two steal her shoes. Clever puppers 121/110 https://t.co/1zfnTJLt55   \n",
       "1712                                                                 Here we have uncovered an entire battalion of holiday puppers. Average of 11.26/10 https://t.co/eNm2S6p9BD   \n",
       "1779                                                                                                     IT'S PUPPERGEDDON. Total of 144/120 ...I think https://t.co/ZanVtAtvIq   \n",
       "1843                                                                Here we have an entire platoon of puppers. Total score: 88/80 would pet all at once https://t.co/y93p6FLvVw   \n",
       "2074                                                                                        After so many requests... here you go.\\n\\nGood dogg. 420/10 https://t.co/yfAAo1gdeY   \n",
       "\n",
       "      rating_numerator  \n",
       "188                420  \n",
       "189                666  \n",
       "290                182  \n",
       "313                960  \n",
       "340                 75  \n",
       "433                 84  \n",
       "516                 24  \n",
       "695                 75  \n",
       "763                 27  \n",
       "902                165  \n",
       "979               1776  \n",
       "1120               204  \n",
       "1202                50  \n",
       "1228                99  \n",
       "1254                80  \n",
       "1274                45  \n",
       "1351                60  \n",
       "1433                44  \n",
       "1634               143  \n",
       "1635               121  \n",
       "1712                26  \n",
       "1779               144  \n",
       "1843                88  \n",
       "2074               420  "
      ]
     },
     "execution_count": 14,
     "metadata": {},
     "output_type": "execute_result"
    }
   ],
   "source": [
    "#查看rating_numerator大于20的列\n",
    "twitter_archive_clean[twitter_archive_clean['rating_numerator']>20][['retweeted_status_id','text','rating_numerator']]"
   ]
  },
  {
   "cell_type": "code",
   "execution_count": 15,
   "metadata": {},
   "outputs": [
    {
     "data": {
      "text/html": [
       "<div>\n",
       "<style scoped>\n",
       "    .dataframe tbody tr th:only-of-type {\n",
       "        vertical-align: middle;\n",
       "    }\n",
       "\n",
       "    .dataframe tbody tr th {\n",
       "        vertical-align: top;\n",
       "    }\n",
       "\n",
       "    .dataframe thead th {\n",
       "        text-align: right;\n",
       "    }\n",
       "</style>\n",
       "<table border=\"1\" class=\"dataframe\">\n",
       "  <thead>\n",
       "    <tr style=\"text-align: right;\">\n",
       "      <th></th>\n",
       "      <th>tweet_id</th>\n",
       "      <th>in_reply_to_status_id</th>\n",
       "      <th>in_reply_to_user_id</th>\n",
       "      <th>retweeted_status_id</th>\n",
       "      <th>retweeted_status_user_id</th>\n",
       "      <th>rating_numerator</th>\n",
       "      <th>rating_denominator</th>\n",
       "    </tr>\n",
       "  </thead>\n",
       "  <tbody>\n",
       "    <tr>\n",
       "      <th>count</th>\n",
       "      <td>2.356000e+03</td>\n",
       "      <td>7.800000e+01</td>\n",
       "      <td>7.800000e+01</td>\n",
       "      <td>1.810000e+02</td>\n",
       "      <td>1.810000e+02</td>\n",
       "      <td>2356.000000</td>\n",
       "      <td>2356.000000</td>\n",
       "    </tr>\n",
       "    <tr>\n",
       "      <th>mean</th>\n",
       "      <td>7.427716e+17</td>\n",
       "      <td>7.455079e+17</td>\n",
       "      <td>2.014171e+16</td>\n",
       "      <td>7.720400e+17</td>\n",
       "      <td>1.241698e+16</td>\n",
       "      <td>13.126486</td>\n",
       "      <td>10.455433</td>\n",
       "    </tr>\n",
       "    <tr>\n",
       "      <th>std</th>\n",
       "      <td>6.856705e+16</td>\n",
       "      <td>7.582492e+16</td>\n",
       "      <td>1.252797e+17</td>\n",
       "      <td>6.236928e+16</td>\n",
       "      <td>9.599254e+16</td>\n",
       "      <td>45.876648</td>\n",
       "      <td>6.745237</td>\n",
       "    </tr>\n",
       "    <tr>\n",
       "      <th>min</th>\n",
       "      <td>6.660209e+17</td>\n",
       "      <td>6.658147e+17</td>\n",
       "      <td>1.185634e+07</td>\n",
       "      <td>6.661041e+17</td>\n",
       "      <td>7.832140e+05</td>\n",
       "      <td>0.000000</td>\n",
       "      <td>0.000000</td>\n",
       "    </tr>\n",
       "    <tr>\n",
       "      <th>25%</th>\n",
       "      <td>6.783989e+17</td>\n",
       "      <td>6.757419e+17</td>\n",
       "      <td>3.086374e+08</td>\n",
       "      <td>7.186315e+17</td>\n",
       "      <td>4.196984e+09</td>\n",
       "      <td>10.000000</td>\n",
       "      <td>10.000000</td>\n",
       "    </tr>\n",
       "    <tr>\n",
       "      <th>50%</th>\n",
       "      <td>7.196279e+17</td>\n",
       "      <td>7.038708e+17</td>\n",
       "      <td>4.196984e+09</td>\n",
       "      <td>7.804657e+17</td>\n",
       "      <td>4.196984e+09</td>\n",
       "      <td>11.000000</td>\n",
       "      <td>10.000000</td>\n",
       "    </tr>\n",
       "    <tr>\n",
       "      <th>75%</th>\n",
       "      <td>7.993373e+17</td>\n",
       "      <td>8.257804e+17</td>\n",
       "      <td>4.196984e+09</td>\n",
       "      <td>8.203146e+17</td>\n",
       "      <td>4.196984e+09</td>\n",
       "      <td>12.000000</td>\n",
       "      <td>10.000000</td>\n",
       "    </tr>\n",
       "    <tr>\n",
       "      <th>max</th>\n",
       "      <td>8.924206e+17</td>\n",
       "      <td>8.862664e+17</td>\n",
       "      <td>8.405479e+17</td>\n",
       "      <td>8.874740e+17</td>\n",
       "      <td>7.874618e+17</td>\n",
       "      <td>1776.000000</td>\n",
       "      <td>170.000000</td>\n",
       "    </tr>\n",
       "  </tbody>\n",
       "</table>\n",
       "</div>"
      ],
      "text/plain": [
       "           tweet_id  in_reply_to_status_id  in_reply_to_user_id  \\\n",
       "count  2.356000e+03           7.800000e+01         7.800000e+01   \n",
       "mean   7.427716e+17           7.455079e+17         2.014171e+16   \n",
       "std    6.856705e+16           7.582492e+16         1.252797e+17   \n",
       "min    6.660209e+17           6.658147e+17         1.185634e+07   \n",
       "25%    6.783989e+17           6.757419e+17         3.086374e+08   \n",
       "50%    7.196279e+17           7.038708e+17         4.196984e+09   \n",
       "75%    7.993373e+17           8.257804e+17         4.196984e+09   \n",
       "max    8.924206e+17           8.862664e+17         8.405479e+17   \n",
       "\n",
       "       retweeted_status_id  retweeted_status_user_id  rating_numerator  \\\n",
       "count         1.810000e+02              1.810000e+02       2356.000000   \n",
       "mean          7.720400e+17              1.241698e+16         13.126486   \n",
       "std           6.236928e+16              9.599254e+16         45.876648   \n",
       "min           6.661041e+17              7.832140e+05          0.000000   \n",
       "25%           7.186315e+17              4.196984e+09         10.000000   \n",
       "50%           7.804657e+17              4.196984e+09         11.000000   \n",
       "75%           8.203146e+17              4.196984e+09         12.000000   \n",
       "max           8.874740e+17              7.874618e+17       1776.000000   \n",
       "\n",
       "       rating_denominator  \n",
       "count         2356.000000  \n",
       "mean            10.455433  \n",
       "std              6.745237  \n",
       "min              0.000000  \n",
       "25%             10.000000  \n",
       "50%             10.000000  \n",
       "75%             10.000000  \n",
       "max            170.000000  "
      ]
     },
     "execution_count": 15,
     "metadata": {},
     "output_type": "execute_result"
    }
   ],
   "source": [
    "twitter_archive_clean.describe()"
   ]
  },
  {
   "cell_type": "code",
   "execution_count": 16,
   "metadata": {},
   "outputs": [
    {
     "data": {
      "text/plain": [
       "10     2333\n",
       "11        3\n",
       "50        3\n",
       "80        2\n",
       "20        2\n",
       "2         1\n",
       "16        1\n",
       "40        1\n",
       "70        1\n",
       "15        1\n",
       "90        1\n",
       "110       1\n",
       "120       1\n",
       "130       1\n",
       "150       1\n",
       "170       1\n",
       "7         1\n",
       "0         1\n",
       "Name: rating_denominator, dtype: int64"
      ]
     },
     "execution_count": 16,
     "metadata": {},
     "output_type": "execute_result"
    }
   ],
   "source": [
    "#查看rating_denominator列数据情况\n",
    "twitter_archive_clean['rating_denominator'].value_counts()"
   ]
  },
  {
   "cell_type": "markdown",
   "metadata": {},
   "source": [
    "**发现问题：**\n",
    "- rating_numerator有一些异常值，例如9.75/10提取了75,没有考虑小数的可能\n",
    "- rating_denominator列有一些除了10以外的数据"
   ]
  },
  {
   "cell_type": "code",
   "execution_count": 17,
   "metadata": {},
   "outputs": [
    {
     "data": {
      "text/plain": [
       "a             55\n",
       "Charlie       12\n",
       "Lucy          11\n",
       "Cooper        11\n",
       "Oliver        11\n",
       "Tucker        10\n",
       "Lola          10\n",
       "Penny         10\n",
       "Bo             9\n",
       "Winston        9\n",
       "the            8\n",
       "Sadie          8\n",
       "an             7\n",
       "Buddy          7\n",
       "Toby           7\n",
       "Bailey         7\n",
       "Daisy          7\n",
       "Jack           6\n",
       "Milo           6\n",
       "Koda           6\n",
       "Jax            6\n",
       "Dave           6\n",
       "Bella          6\n",
       "Oscar          6\n",
       "Stanley        6\n",
       "Leo            6\n",
       "Scout          6\n",
       "Rusty          6\n",
       "Finn           5\n",
       "Sunny          5\n",
       "              ..\n",
       "Mason          1\n",
       "BeBe           1\n",
       "Covach         1\n",
       "Holly          1\n",
       "Walker         1\n",
       "Harnold        1\n",
       "Herb           1\n",
       "Bayley         1\n",
       "Murphy         1\n",
       "Noosh          1\n",
       "Shiloh         1\n",
       "Jangle         1\n",
       "Lenox          1\n",
       "Sprinkles      1\n",
       "Ole            1\n",
       "Zuzu           1\n",
       "Fido           1\n",
       "Franq          1\n",
       "Longfellow     1\n",
       "Tripp          1\n",
       "Meera          1\n",
       "Napolean       1\n",
       "Shawwn         1\n",
       "Aiden          1\n",
       "Rupert         1\n",
       "Chef           1\n",
       "Rose           1\n",
       "Kona           1\n",
       "Caryl          1\n",
       "Bert           1\n",
       "Name: name, Length: 956, dtype: int64"
      ]
     },
     "execution_count": 17,
     "metadata": {},
     "output_type": "execute_result"
    }
   ],
   "source": [
    "#查看name列数据情况\n",
    "twitter_archive_clean['name'].value_counts()"
   ]
  },
  {
   "cell_type": "markdown",
   "metadata": {},
   "source": [
    "**发现问题：**\n",
    "- name列含有一些诸如a,an,the的非名字的词"
   ]
  },
  {
   "cell_type": "code",
   "execution_count": 18,
   "metadata": {},
   "outputs": [
    {
     "name": "stdout",
     "output_type": "stream",
     "text": [
      "<class 'pandas.core.frame.DataFrame'>\n",
      "RangeIndex: 2075 entries, 0 to 2074\n",
      "Data columns (total 12 columns):\n",
      "tweet_id    2075 non-null int64\n",
      "jpg_url     2075 non-null object\n",
      "img_num     2075 non-null int64\n",
      "p1          2075 non-null object\n",
      "p1_conf     2075 non-null float64\n",
      "p1_dog      2075 non-null bool\n",
      "p2          2075 non-null object\n",
      "p2_conf     2075 non-null float64\n",
      "p2_dog      2075 non-null bool\n",
      "p3          2075 non-null object\n",
      "p3_conf     2075 non-null float64\n",
      "p3_dog      2075 non-null bool\n",
      "dtypes: bool(3), float64(3), int64(2), object(4)\n",
      "memory usage: 152.1+ KB\n"
     ]
    }
   ],
   "source": [
    "twitter_image_clean.info()"
   ]
  },
  {
   "cell_type": "code",
   "execution_count": 19,
   "metadata": {},
   "outputs": [
    {
     "data": {
      "text/plain": [
       "2075"
      ]
     },
     "execution_count": 19,
     "metadata": {},
     "output_type": "execute_result"
    }
   ],
   "source": [
    "twitter_image_clean.tweet_id.nunique()"
   ]
  },
  {
   "cell_type": "markdown",
   "metadata": {},
   "source": [
    "**发现的问题：**\n",
    "- tweet_id数据类型是int64,应该是str\n",
    "- p1,p2,p3可以使用更描述性的词"
   ]
  },
  {
   "cell_type": "code",
   "execution_count": 20,
   "metadata": {},
   "outputs": [
    {
     "name": "stdout",
     "output_type": "stream",
     "text": [
      "<class 'pandas.core.frame.DataFrame'>\n",
      "RangeIndex: 2352 entries, 0 to 2351\n",
      "Data columns (total 3 columns):\n",
      "favorite_count    2352 non-null int64\n",
      "retweet_count     2352 non-null int64\n",
      "tweet_id          2352 non-null int64\n",
      "dtypes: int64(3)\n",
      "memory usage: 55.2 KB\n"
     ]
    }
   ],
   "source": [
    "tweet_json.info()"
   ]
  },
  {
   "cell_type": "code",
   "execution_count": 21,
   "metadata": {},
   "outputs": [
    {
     "data": {
      "text/plain": [
       "2352"
      ]
     },
     "execution_count": 21,
     "metadata": {},
     "output_type": "execute_result"
    }
   ],
   "source": [
    "tweet_json_clean.tweet_id.nunique()"
   ]
  },
  {
   "cell_type": "markdown",
   "metadata": {},
   "source": [
    "**发现的问题：**\n",
    "- tweet_id数据类型是int64,应该是str"
   ]
  },
  {
   "cell_type": "markdown",
   "metadata": {},
   "source": [
    "**存在的问题：**\n",
    "- 三个数据表格都可以按照tweet_id进行合并。\n",
    "\n",
    "#### 2.2.3 评估汇总\n",
    "##### **质量问题：**\n",
    "\n",
    "\n",
    "`twitter_archive_clean`存在的问题\n",
    "1. 空值表示方式有NaN, None两种\n",
    "- timestamp列,retweeted_status_timestamp列数据类型是object\n",
    "- tweet_id列数据类型是int,in_reply_to_status_id和in_reply_to_user_id列数据类型是float,应该是字符串\n",
    "- in_reply_to_status_id,in_reply_to_user_id,retweeted_status_id,retweeted_status_user_id,retweeted_status_timestamp等列数据缺失\n",
    "- rating_numerator有一些异常值，\n",
    "- rating_numerator有一些值提取错误，例如9.75/10提取了75,没有考虑小数的可能\n",
    "- rating_denominator列有一些除了10以外的数据\n",
    "- name列含有一些诸如a,an,the等小写的非名字的词\n",
    "- 需要将没有图片的行删除\n",
    "\n",
    "`twitter_image_clean`存在的问题\n",
    "9. tweet_id数据类型是int64,应该是str\n",
    "10. p1,p2,p3可以使用更描述性的词\n",
    "\n",
    "`tweet_json_clean`存在的问题\n",
    "11. tweet_id数据类型是int64,应该是str\n",
    "\n",
    "\n",
    "##### **结构问题：**\n",
    "1. doggo，floofer,pupper,puppo这几列是属于一个变量\n",
    "2. 三个数据表格都可以按照tweet_id进行合并。\n",
    "3. 含有181个retweeted_status_id，retweeted_status_user_id，retweeted_status_timestamp的数据，我们不需要转发数据\n",
    "4. 删除不需要的列（in_reply_to_status_id，in_reply_to_user_id，retweeted_status_id，retweeted_status_user_id，retweeted_status_timestamp列）"
   ]
  },
  {
   "cell_type": "markdown",
   "metadata": {},
   "source": [
    "### 2.3 清理数据\n",
    "\n",
    "#### 2.3.1 解决数据缺失问题\n",
    "\n",
    "**定义**\n",
    "4. in_reply_to_status_id,in_reply_to_user_id,retweeted_status_id,retweeted_status_user_id,retweeted_status_timestamp等列数据缺失\n",
    "\n",
    "一些推特不存在回复及被转发，所以有些记录不存在这些数据是合理。\n",
    "\n",
    "**定义**\n",
    "1. 空值表示方式有NaN, None两种\n",
    "\n",
    "为了更好用代码评估数据，在进行代码评估开始之前就对已经此错误进行了处理。有NaN, None两种统一为NaN\n",
    "\n",
    "#### 2.3.2 解决数据结构问题\n",
    "\n",
    "**定义**\n",
    "3. 含有181个retweeted_status_id，retweeted_status_user_id，retweeted_status_timestamp的数据，我们不需要转发数据\n",
    "\n",
    "方法： 筛选出这些列非空值的行，将其删除\n",
    "\n",
    "**代码**"
   ]
  },
  {
   "cell_type": "code",
   "execution_count": 22,
   "metadata": {},
   "outputs": [],
   "source": [
    "twitter_archive_clean = twitter_archive_clean[twitter_archive_clean.retweeted_status_id.isnull()]"
   ]
  },
  {
   "cell_type": "markdown",
   "metadata": {},
   "source": [
    "**测试**"
   ]
  },
  {
   "cell_type": "code",
   "execution_count": 23,
   "metadata": {},
   "outputs": [
    {
     "name": "stdout",
     "output_type": "stream",
     "text": [
      "<class 'pandas.core.frame.DataFrame'>\n",
      "Int64Index: 2175 entries, 0 to 2355\n",
      "Data columns (total 17 columns):\n",
      "tweet_id                      2175 non-null int64\n",
      "in_reply_to_status_id         78 non-null float64\n",
      "in_reply_to_user_id           78 non-null float64\n",
      "timestamp                     2175 non-null object\n",
      "source                        2175 non-null object\n",
      "text                          2175 non-null object\n",
      "retweeted_status_id           0 non-null float64\n",
      "retweeted_status_user_id      0 non-null float64\n",
      "retweeted_status_timestamp    0 non-null object\n",
      "expanded_urls                 2117 non-null object\n",
      "rating_numerator              2175 non-null int64\n",
      "rating_denominator            2175 non-null int64\n",
      "name                          1495 non-null object\n",
      "doggo                         87 non-null object\n",
      "floofer                       10 non-null object\n",
      "pupper                        234 non-null object\n",
      "puppo                         25 non-null object\n",
      "dtypes: float64(4), int64(3), object(10)\n",
      "memory usage: 305.9+ KB\n"
     ]
    }
   ],
   "source": [
    "twitter_archive_clean.info()"
   ]
  },
  {
   "cell_type": "markdown",
   "metadata": {},
   "source": [
    "**转发数据已经删除**"
   ]
  },
  {
   "cell_type": "markdown",
   "metadata": {},
   "source": [
    "**定义**\n",
    "4. 删除不需要的列（in_reply_to_status_id，in_reply_to_user_id，retweeted_status_id，retweeted_status_user_id，retweeted_status_timestamp列）\n",
    "\n",
    "使用drop函数删除这些列"
   ]
  },
  {
   "cell_type": "markdown",
   "metadata": {},
   "source": [
    "**代码**"
   ]
  },
  {
   "cell_type": "code",
   "execution_count": 24,
   "metadata": {},
   "outputs": [],
   "source": [
    "twitter_archive_clean = twitter_archive_clean.drop(labels = ['in_reply_to_status_id','in_reply_to_user_id','retweeted_status_id','retweeted_status_user_id','retweeted_status_timestamp'], axis =1)"
   ]
  },
  {
   "cell_type": "markdown",
   "metadata": {},
   "source": [
    "**测试**"
   ]
  },
  {
   "cell_type": "code",
   "execution_count": 25,
   "metadata": {},
   "outputs": [
    {
     "name": "stdout",
     "output_type": "stream",
     "text": [
      "<class 'pandas.core.frame.DataFrame'>\n",
      "Int64Index: 2175 entries, 0 to 2355\n",
      "Data columns (total 12 columns):\n",
      "tweet_id              2175 non-null int64\n",
      "timestamp             2175 non-null object\n",
      "source                2175 non-null object\n",
      "text                  2175 non-null object\n",
      "expanded_urls         2117 non-null object\n",
      "rating_numerator      2175 non-null int64\n",
      "rating_denominator    2175 non-null int64\n",
      "name                  1495 non-null object\n",
      "doggo                 87 non-null object\n",
      "floofer               10 non-null object\n",
      "pupper                234 non-null object\n",
      "puppo                 25 non-null object\n",
      "dtypes: int64(3), object(9)\n",
      "memory usage: 220.9+ KB\n"
     ]
    }
   ],
   "source": [
    "twitter_archive_clean.info()"
   ]
  },
  {
   "cell_type": "markdown",
   "metadata": {},
   "source": [
    "in_reply_to_status_id，in_reply_to_user_id，retweeted_status_id，retweeted_status_user_id，retweeted_status_timestamp列已经删除\n",
    "\n",
    "**定义**\n",
    "\n",
    "1. doggo，floofer,pupper,puppo这几列是属于一个变量\n",
    "\n",
    "使用melt函数将这四列合为一列，将dog_stage空值也tweet_id的值删除，将多个dog_stage的值，合并成一个值，"
   ]
  },
  {
   "cell_type": "markdown",
   "metadata": {},
   "source": [
    "**代码**"
   ]
  },
  {
   "cell_type": "code",
   "execution_count": 26,
   "metadata": {},
   "outputs": [],
   "source": [
    "twitter_archive_clean = twitter_archive_clean.melt(id_vars=['tweet_id','timestamp','source','text','expanded_urls','rating_numerator',\n",
    "                                                           'rating_denominator','name'],var_name ='columns', value_name='dog_stage')\n",
    "\n",
    "twitter_archive_clean = twitter_archive_clean.drop(labels = 'columns',axis =1)"
   ]
  },
  {
   "cell_type": "code",
   "execution_count": 27,
   "metadata": {},
   "outputs": [],
   "source": [
    "#删除冗余的数据\n",
    "twitter_archive_clean.drop_duplicates(inplace = True)"
   ]
  },
  {
   "cell_type": "code",
   "execution_count": 28,
   "metadata": {},
   "outputs": [
    {
     "data": {
      "text/html": [
       "<div>\n",
       "<style scoped>\n",
       "    .dataframe tbody tr th:only-of-type {\n",
       "        vertical-align: middle;\n",
       "    }\n",
       "\n",
       "    .dataframe tbody tr th {\n",
       "        vertical-align: top;\n",
       "    }\n",
       "\n",
       "    .dataframe thead th {\n",
       "        text-align: right;\n",
       "    }\n",
       "</style>\n",
       "<table border=\"1\" class=\"dataframe\">\n",
       "  <thead>\n",
       "    <tr style=\"text-align: right;\">\n",
       "      <th></th>\n",
       "      <th>tweet_id</th>\n",
       "      <th>dog_stage</th>\n",
       "    </tr>\n",
       "  </thead>\n",
       "  <tbody>\n",
       "    <tr>\n",
       "      <th>1838</th>\n",
       "      <td>672160042234327040</td>\n",
       "      <td>NaN</td>\n",
       "    </tr>\n",
       "    <tr>\n",
       "      <th>6188</th>\n",
       "      <td>672160042234327040</td>\n",
       "      <td>pupper</td>\n",
       "    </tr>\n",
       "    <tr>\n",
       "      <th>1836</th>\n",
       "      <td>672205392827572224</td>\n",
       "      <td>NaN</td>\n",
       "    </tr>\n",
       "    <tr>\n",
       "      <th>6186</th>\n",
       "      <td>672205392827572224</td>\n",
       "      <td>pupper</td>\n",
       "    </tr>\n",
       "    <tr>\n",
       "      <th>6180</th>\n",
       "      <td>672254177670729728</td>\n",
       "      <td>pupper</td>\n",
       "    </tr>\n",
       "    <tr>\n",
       "      <th>1830</th>\n",
       "      <td>672254177670729728</td>\n",
       "      <td>NaN</td>\n",
       "    </tr>\n",
       "    <tr>\n",
       "      <th>6173</th>\n",
       "      <td>672481316919734272</td>\n",
       "      <td>pupper</td>\n",
       "    </tr>\n",
       "    <tr>\n",
       "      <th>1823</th>\n",
       "      <td>672481316919734272</td>\n",
       "      <td>NaN</td>\n",
       "    </tr>\n",
       "    <tr>\n",
       "      <th>6166</th>\n",
       "      <td>672594978741354496</td>\n",
       "      <td>pupper</td>\n",
       "    </tr>\n",
       "    <tr>\n",
       "      <th>1816</th>\n",
       "      <td>672594978741354496</td>\n",
       "      <td>NaN</td>\n",
       "    </tr>\n",
       "    <tr>\n",
       "      <th>6163</th>\n",
       "      <td>672614745925664768</td>\n",
       "      <td>pupper</td>\n",
       "    </tr>\n",
       "    <tr>\n",
       "      <th>1813</th>\n",
       "      <td>672614745925664768</td>\n",
       "      <td>NaN</td>\n",
       "    </tr>\n",
       "    <tr>\n",
       "      <th>6162</th>\n",
       "      <td>672622327801233409</td>\n",
       "      <td>pupper</td>\n",
       "    </tr>\n",
       "    <tr>\n",
       "      <th>1812</th>\n",
       "      <td>672622327801233409</td>\n",
       "      <td>NaN</td>\n",
       "    </tr>\n",
       "    <tr>\n",
       "      <th>6156</th>\n",
       "      <td>672898206762672129</td>\n",
       "      <td>pupper</td>\n",
       "    </tr>\n",
       "    <tr>\n",
       "      <th>1806</th>\n",
       "      <td>672898206762672129</td>\n",
       "      <td>NaN</td>\n",
       "    </tr>\n",
       "    <tr>\n",
       "      <th>6152</th>\n",
       "      <td>672970152493887488</td>\n",
       "      <td>pupper</td>\n",
       "    </tr>\n",
       "    <tr>\n",
       "      <th>1802</th>\n",
       "      <td>672970152493887488</td>\n",
       "      <td>NaN</td>\n",
       "    </tr>\n",
       "    <tr>\n",
       "      <th>1801</th>\n",
       "      <td>672975131468300288</td>\n",
       "      <td>NaN</td>\n",
       "    </tr>\n",
       "    <tr>\n",
       "      <th>6151</th>\n",
       "      <td>672975131468300288</td>\n",
       "      <td>pupper</td>\n",
       "    </tr>\n",
       "    <tr>\n",
       "      <th>1798</th>\n",
       "      <td>672988786805112832</td>\n",
       "      <td>NaN</td>\n",
       "    </tr>\n",
       "    <tr>\n",
       "      <th>6148</th>\n",
       "      <td>672988786805112832</td>\n",
       "      <td>pupper</td>\n",
       "    </tr>\n",
       "    <tr>\n",
       "      <th>6145</th>\n",
       "      <td>673148804208660480</td>\n",
       "      <td>pupper</td>\n",
       "    </tr>\n",
       "    <tr>\n",
       "      <th>1795</th>\n",
       "      <td>673148804208660480</td>\n",
       "      <td>NaN</td>\n",
       "    </tr>\n",
       "    <tr>\n",
       "      <th>1791</th>\n",
       "      <td>673295268553605120</td>\n",
       "      <td>NaN</td>\n",
       "    </tr>\n",
       "    <tr>\n",
       "      <th>6141</th>\n",
       "      <td>673295268553605120</td>\n",
       "      <td>pupper</td>\n",
       "    </tr>\n",
       "    <tr>\n",
       "      <th>1788</th>\n",
       "      <td>673342308415348736</td>\n",
       "      <td>NaN</td>\n",
       "    </tr>\n",
       "    <tr>\n",
       "      <th>6138</th>\n",
       "      <td>673342308415348736</td>\n",
       "      <td>pupper</td>\n",
       "    </tr>\n",
       "    <tr>\n",
       "      <th>1781</th>\n",
       "      <td>673363615379013632</td>\n",
       "      <td>NaN</td>\n",
       "    </tr>\n",
       "    <tr>\n",
       "      <th>6131</th>\n",
       "      <td>673363615379013632</td>\n",
       "      <td>pupper</td>\n",
       "    </tr>\n",
       "    <tr>\n",
       "      <th>...</th>\n",
       "      <td>...</td>\n",
       "      <td>...</td>\n",
       "    </tr>\n",
       "    <tr>\n",
       "      <th>96</th>\n",
       "      <td>871762521631449091</td>\n",
       "      <td>NaN</td>\n",
       "    </tr>\n",
       "    <tr>\n",
       "      <th>4446</th>\n",
       "      <td>871762521631449091</td>\n",
       "      <td>pupper</td>\n",
       "    </tr>\n",
       "    <tr>\n",
       "      <th>89</th>\n",
       "      <td>872967104147763200</td>\n",
       "      <td>doggo</td>\n",
       "    </tr>\n",
       "    <tr>\n",
       "      <th>2264</th>\n",
       "      <td>872967104147763200</td>\n",
       "      <td>NaN</td>\n",
       "    </tr>\n",
       "    <tr>\n",
       "      <th>88</th>\n",
       "      <td>873213775632977920</td>\n",
       "      <td>NaN</td>\n",
       "    </tr>\n",
       "    <tr>\n",
       "      <th>4438</th>\n",
       "      <td>873213775632977920</td>\n",
       "      <td>pupper</td>\n",
       "    </tr>\n",
       "    <tr>\n",
       "      <th>86</th>\n",
       "      <td>874012996292530176</td>\n",
       "      <td>NaN</td>\n",
       "    </tr>\n",
       "    <tr>\n",
       "      <th>6611</th>\n",
       "      <td>874012996292530176</td>\n",
       "      <td>puppo</td>\n",
       "    </tr>\n",
       "    <tr>\n",
       "      <th>84</th>\n",
       "      <td>874296783580663808</td>\n",
       "      <td>NaN</td>\n",
       "    </tr>\n",
       "    <tr>\n",
       "      <th>4434</th>\n",
       "      <td>874296783580663808</td>\n",
       "      <td>pupper</td>\n",
       "    </tr>\n",
       "    <tr>\n",
       "      <th>75</th>\n",
       "      <td>876838120628539392</td>\n",
       "      <td>NaN</td>\n",
       "    </tr>\n",
       "    <tr>\n",
       "      <th>4425</th>\n",
       "      <td>876838120628539392</td>\n",
       "      <td>pupper</td>\n",
       "    </tr>\n",
       "    <tr>\n",
       "      <th>6592</th>\n",
       "      <td>878776093423087618</td>\n",
       "      <td>puppo</td>\n",
       "    </tr>\n",
       "    <tr>\n",
       "      <th>67</th>\n",
       "      <td>878776093423087618</td>\n",
       "      <td>NaN</td>\n",
       "    </tr>\n",
       "    <tr>\n",
       "      <th>4403</th>\n",
       "      <td>881536004380872706</td>\n",
       "      <td>pupper</td>\n",
       "    </tr>\n",
       "    <tr>\n",
       "      <th>53</th>\n",
       "      <td>881536004380872706</td>\n",
       "      <td>NaN</td>\n",
       "    </tr>\n",
       "    <tr>\n",
       "      <th>4396</th>\n",
       "      <td>882762694511734784</td>\n",
       "      <td>pupper</td>\n",
       "    </tr>\n",
       "    <tr>\n",
       "      <th>46</th>\n",
       "      <td>882762694511734784</td>\n",
       "      <td>NaN</td>\n",
       "    </tr>\n",
       "    <tr>\n",
       "      <th>43</th>\n",
       "      <td>883360690899218434</td>\n",
       "      <td>NaN</td>\n",
       "    </tr>\n",
       "    <tr>\n",
       "      <th>2218</th>\n",
       "      <td>883360690899218434</td>\n",
       "      <td>floofer</td>\n",
       "    </tr>\n",
       "    <tr>\n",
       "      <th>2215</th>\n",
       "      <td>884162670584377345</td>\n",
       "      <td>NaN</td>\n",
       "    </tr>\n",
       "    <tr>\n",
       "      <th>40</th>\n",
       "      <td>884162670584377345</td>\n",
       "      <td>doggo</td>\n",
       "    </tr>\n",
       "    <tr>\n",
       "      <th>4378</th>\n",
       "      <td>886366144734445568</td>\n",
       "      <td>pupper</td>\n",
       "    </tr>\n",
       "    <tr>\n",
       "      <th>28</th>\n",
       "      <td>886366144734445568</td>\n",
       "      <td>NaN</td>\n",
       "    </tr>\n",
       "    <tr>\n",
       "      <th>14</th>\n",
       "      <td>889531135344209921</td>\n",
       "      <td>NaN</td>\n",
       "    </tr>\n",
       "    <tr>\n",
       "      <th>6539</th>\n",
       "      <td>889531135344209921</td>\n",
       "      <td>puppo</td>\n",
       "    </tr>\n",
       "    <tr>\n",
       "      <th>12</th>\n",
       "      <td>889665388333682689</td>\n",
       "      <td>NaN</td>\n",
       "    </tr>\n",
       "    <tr>\n",
       "      <th>6537</th>\n",
       "      <td>889665388333682689</td>\n",
       "      <td>puppo</td>\n",
       "    </tr>\n",
       "    <tr>\n",
       "      <th>2184</th>\n",
       "      <td>890240255349198849</td>\n",
       "      <td>NaN</td>\n",
       "    </tr>\n",
       "    <tr>\n",
       "      <th>9</th>\n",
       "      <td>890240255349198849</td>\n",
       "      <td>doggo</td>\n",
       "    </tr>\n",
       "  </tbody>\n",
       "</table>\n",
       "<p>700 rows × 2 columns</p>\n",
       "</div>"
      ],
      "text/plain": [
       "                tweet_id dog_stage\n",
       "1838  672160042234327040       NaN\n",
       "6188  672160042234327040    pupper\n",
       "1836  672205392827572224       NaN\n",
       "6186  672205392827572224    pupper\n",
       "6180  672254177670729728    pupper\n",
       "1830  672254177670729728       NaN\n",
       "6173  672481316919734272    pupper\n",
       "1823  672481316919734272       NaN\n",
       "6166  672594978741354496    pupper\n",
       "1816  672594978741354496       NaN\n",
       "6163  672614745925664768    pupper\n",
       "1813  672614745925664768       NaN\n",
       "6162  672622327801233409    pupper\n",
       "1812  672622327801233409       NaN\n",
       "6156  672898206762672129    pupper\n",
       "1806  672898206762672129       NaN\n",
       "6152  672970152493887488    pupper\n",
       "1802  672970152493887488       NaN\n",
       "1801  672975131468300288       NaN\n",
       "6151  672975131468300288    pupper\n",
       "1798  672988786805112832       NaN\n",
       "6148  672988786805112832    pupper\n",
       "6145  673148804208660480    pupper\n",
       "1795  673148804208660480       NaN\n",
       "1791  673295268553605120       NaN\n",
       "6141  673295268553605120    pupper\n",
       "1788  673342308415348736       NaN\n",
       "6138  673342308415348736    pupper\n",
       "1781  673363615379013632       NaN\n",
       "6131  673363615379013632    pupper\n",
       "...                  ...       ...\n",
       "96    871762521631449091       NaN\n",
       "4446  871762521631449091    pupper\n",
       "89    872967104147763200     doggo\n",
       "2264  872967104147763200       NaN\n",
       "88    873213775632977920       NaN\n",
       "4438  873213775632977920    pupper\n",
       "86    874012996292530176       NaN\n",
       "6611  874012996292530176     puppo\n",
       "84    874296783580663808       NaN\n",
       "4434  874296783580663808    pupper\n",
       "75    876838120628539392       NaN\n",
       "4425  876838120628539392    pupper\n",
       "6592  878776093423087618     puppo\n",
       "67    878776093423087618       NaN\n",
       "4403  881536004380872706    pupper\n",
       "53    881536004380872706       NaN\n",
       "4396  882762694511734784    pupper\n",
       "46    882762694511734784       NaN\n",
       "43    883360690899218434       NaN\n",
       "2218  883360690899218434   floofer\n",
       "2215  884162670584377345       NaN\n",
       "40    884162670584377345     doggo\n",
       "4378  886366144734445568    pupper\n",
       "28    886366144734445568       NaN\n",
       "14    889531135344209921       NaN\n",
       "6539  889531135344209921     puppo\n",
       "12    889665388333682689       NaN\n",
       "6537  889665388333682689     puppo\n",
       "2184  890240255349198849       NaN\n",
       "9     890240255349198849     doggo\n",
       "\n",
       "[700 rows x 2 columns]"
      ]
     },
     "execution_count": 28,
     "metadata": {},
     "output_type": "execute_result"
    }
   ],
   "source": [
    "#查看tweet_id数据是否有重复，并显示\n",
    "twitter_archive_clean[twitter_archive_clean.tweet_id.duplicated(keep=False)][['tweet_id','dog_stage']].sort_values(by='tweet_id')"
   ]
  },
  {
   "cell_type": "code",
   "execution_count": 29,
   "metadata": {},
   "outputs": [],
   "source": [
    "#删除dog_stage空值，且tweet_id是重复的行\n",
    "twitter_archive_clean = twitter_archive_clean[-((twitter_archive_clean.tweet_id.duplicated(keep = False))&(twitter_archive_clean.dog_stage.isnull()))]"
   ]
  },
  {
   "cell_type": "code",
   "execution_count": 30,
   "metadata": {},
   "outputs": [],
   "source": [
    "#将重复的tweet_id列的dog_stage合并\n",
    "multi_dog_stage = twitter_archive_clean[twitter_archive_clean.tweet_id.duplicated(keep=False)][['tweet_id','dog_stage']].sort_values(by='tweet_id')\n",
    "multi_dog_stage = multi_dog_stage['dog_stage'].groupby(multi_dog_stage['tweet_id']).aggregate(lambda x:','.join(x)).reset_index()"
   ]
  },
  {
   "cell_type": "code",
   "execution_count": 31,
   "metadata": {},
   "outputs": [],
   "source": [
    "#将不重复的dog_stage筛选出来\n",
    "single_dog_stage = twitter_archive_clean[- twitter_archive_clean.tweet_id.duplicated(keep = False )][['tweet_id','dog_stage']]"
   ]
  },
  {
   "cell_type": "code",
   "execution_count": 32,
   "metadata": {},
   "outputs": [],
   "source": [
    "#将single_dog_stage和multi_dog_stage合并为dog_stage\n",
    "dog_stage = pd.concat([single_dog_stage,multi_dog_stage])\n",
    "#将原有的dog_stage删除\n",
    "twitter_archive_clean.drop(labels='dog_stage',axis = 1, inplace = True )\n",
    "#将新生成的dog_stage按tweet_id合并到twitter_archive_clean\n",
    "twitter_archive_clean = twitter_archive_clean.merge(dog_stage,how = 'inner',on='tweet_id')\n",
    "#将重复的tweet_id行删除\n",
    "twitter_archive_clean = twitter_archive_clean[-twitter_archive_clean.tweet_id.duplicated(keep='first')]"
   ]
  },
  {
   "cell_type": "markdown",
   "metadata": {},
   "source": [
    "**测试**"
   ]
  },
  {
   "cell_type": "code",
   "execution_count": 33,
   "metadata": {},
   "outputs": [
    {
     "data": {
      "text/html": [
       "<div>\n",
       "<style scoped>\n",
       "    .dataframe tbody tr th:only-of-type {\n",
       "        vertical-align: middle;\n",
       "    }\n",
       "\n",
       "    .dataframe tbody tr th {\n",
       "        vertical-align: top;\n",
       "    }\n",
       "\n",
       "    .dataframe thead th {\n",
       "        text-align: right;\n",
       "    }\n",
       "</style>\n",
       "<table border=\"1\" class=\"dataframe\">\n",
       "  <thead>\n",
       "    <tr style=\"text-align: right;\">\n",
       "      <th></th>\n",
       "      <th>tweet_id</th>\n",
       "      <th>dog_stage</th>\n",
       "    </tr>\n",
       "  </thead>\n",
       "  <tbody>\n",
       "  </tbody>\n",
       "</table>\n",
       "</div>"
      ],
      "text/plain": [
       "Empty DataFrame\n",
       "Columns: [tweet_id, dog_stage]\n",
       "Index: []"
      ]
     },
     "execution_count": 33,
     "metadata": {},
     "output_type": "execute_result"
    }
   ],
   "source": [
    "twitter_archive_clean[twitter_archive_clean.tweet_id.duplicated(keep = False )][['tweet_id','dog_stage']]"
   ]
  },
  {
   "cell_type": "code",
   "execution_count": 34,
   "metadata": {},
   "outputs": [
    {
     "data": {
      "text/html": [
       "<div>\n",
       "<style scoped>\n",
       "    .dataframe tbody tr th:only-of-type {\n",
       "        vertical-align: middle;\n",
       "    }\n",
       "\n",
       "    .dataframe tbody tr th {\n",
       "        vertical-align: top;\n",
       "    }\n",
       "\n",
       "    .dataframe thead th {\n",
       "        text-align: right;\n",
       "    }\n",
       "</style>\n",
       "<table border=\"1\" class=\"dataframe\">\n",
       "  <thead>\n",
       "    <tr style=\"text-align: right;\">\n",
       "      <th></th>\n",
       "      <th>tweet_id</th>\n",
       "      <th>timestamp</th>\n",
       "      <th>source</th>\n",
       "      <th>text</th>\n",
       "      <th>expanded_urls</th>\n",
       "      <th>rating_numerator</th>\n",
       "      <th>rating_denominator</th>\n",
       "      <th>name</th>\n",
       "      <th>dog_stage</th>\n",
       "    </tr>\n",
       "  </thead>\n",
       "  <tbody>\n",
       "    <tr>\n",
       "      <th>832</th>\n",
       "      <td>738156290900254721</td>\n",
       "      <td>2016-06-01 23:52:28 +0000</td>\n",
       "      <td>&lt;a href=\"http://twitter.com/download/iphone\" rel=\"nofollow\"&gt;Twitter for iPhone&lt;/a&gt;</td>\n",
       "      <td>This is Storkson. He's wet and sad. 10/10 cheer up pup https://t.co/nrzvzPuTvC</td>\n",
       "      <td>https://twitter.com/dog_rates/status/738156290900254721/photo/1</td>\n",
       "      <td>10</td>\n",
       "      <td>10</td>\n",
       "      <td>Storkson</td>\n",
       "      <td>NaN</td>\n",
       "    </tr>\n",
       "    <tr>\n",
       "      <th>255</th>\n",
       "      <td>833863086058651648</td>\n",
       "      <td>2017-02-21 02:17:06 +0000</td>\n",
       "      <td>&lt;a href=\"http://twitter.com/download/iphone\" rel=\"nofollow\"&gt;Twitter for iPhone&lt;/a&gt;</td>\n",
       "      <td>This is Bentley. Hairbrushes are his favorite thing in the h*ckin world. 12/10 impawsible to say no to https://t.co/HDloTYilWZ</td>\n",
       "      <td>https://twitter.com/dog_rates/status/833863086058651648/photo/1,https://twitter.com/dog_rates/status/833863086058651648/photo/1</td>\n",
       "      <td>12</td>\n",
       "      <td>10</td>\n",
       "      <td>Bentley</td>\n",
       "      <td>NaN</td>\n",
       "    </tr>\n",
       "    <tr>\n",
       "      <th>296</th>\n",
       "      <td>828046555563323392</td>\n",
       "      <td>2017-02-05 01:04:17 +0000</td>\n",
       "      <td>&lt;a href=\"http://twitter.com/download/iphone\" rel=\"nofollow\"&gt;Twitter for iPhone&lt;/a&gt;</td>\n",
       "      <td>This is Sailer. He waits on the roof for his owners to come home. Nobody knows how he gets up there. H*ckin loyal af. 13/10 https://t.co/O37z4jaMG9</td>\n",
       "      <td>https://twitter.com/dog_rates/status/828046555563323392/photo/1,https://twitter.com/dog_rates/status/828046555563323392/photo/1,https://twitter.com/dog_rates/status/828046555563323392/photo/1</td>\n",
       "      <td>13</td>\n",
       "      <td>10</td>\n",
       "      <td>Sailer</td>\n",
       "      <td>NaN</td>\n",
       "    </tr>\n",
       "  </tbody>\n",
       "</table>\n",
       "</div>"
      ],
      "text/plain": [
       "               tweet_id                  timestamp  \\\n",
       "832  738156290900254721  2016-06-01 23:52:28 +0000   \n",
       "255  833863086058651648  2017-02-21 02:17:06 +0000   \n",
       "296  828046555563323392  2017-02-05 01:04:17 +0000   \n",
       "\n",
       "                                                                                 source  \\\n",
       "832  <a href=\"http://twitter.com/download/iphone\" rel=\"nofollow\">Twitter for iPhone</a>   \n",
       "255  <a href=\"http://twitter.com/download/iphone\" rel=\"nofollow\">Twitter for iPhone</a>   \n",
       "296  <a href=\"http://twitter.com/download/iphone\" rel=\"nofollow\">Twitter for iPhone</a>   \n",
       "\n",
       "                                                                                                                                                    text  \\\n",
       "832                                                                       This is Storkson. He's wet and sad. 10/10 cheer up pup https://t.co/nrzvzPuTvC   \n",
       "255                       This is Bentley. Hairbrushes are his favorite thing in the h*ckin world. 12/10 impawsible to say no to https://t.co/HDloTYilWZ   \n",
       "296  This is Sailer. He waits on the roof for his owners to come home. Nobody knows how he gets up there. H*ckin loyal af. 13/10 https://t.co/O37z4jaMG9   \n",
       "\n",
       "                                                                                                                                                                                       expanded_urls  \\\n",
       "832                                                                                                                                  https://twitter.com/dog_rates/status/738156290900254721/photo/1   \n",
       "255                                                                  https://twitter.com/dog_rates/status/833863086058651648/photo/1,https://twitter.com/dog_rates/status/833863086058651648/photo/1   \n",
       "296  https://twitter.com/dog_rates/status/828046555563323392/photo/1,https://twitter.com/dog_rates/status/828046555563323392/photo/1,https://twitter.com/dog_rates/status/828046555563323392/photo/1   \n",
       "\n",
       "     rating_numerator  rating_denominator      name dog_stage  \n",
       "832                10                  10  Storkson       NaN  \n",
       "255                12                  10   Bentley       NaN  \n",
       "296                13                  10    Sailer       NaN  "
      ]
     },
     "execution_count": 34,
     "metadata": {},
     "output_type": "execute_result"
    }
   ],
   "source": [
    "twitter_archive_clean.sample(3)"
   ]
  },
  {
   "cell_type": "markdown",
   "metadata": {},
   "source": [
    "doggo，floofer,pupper,puppo列是合并成了一列\n",
    "\n",
    "**定义**\n",
    "2. 三个数据表格都可以按照tweet_id进行合并。\n",
    "\n",
    "使用merge函数，分两次进行按tweet_id合并这三个数据，因为采用inner的方式合并，这会使没有图片的信息删除"
   ]
  },
  {
   "cell_type": "markdown",
   "metadata": {},
   "source": [
    "**代码**"
   ]
  },
  {
   "cell_type": "code",
   "execution_count": 35,
   "metadata": {},
   "outputs": [],
   "source": [
    "twitter_master = twitter_archive_clean.merge(tweet_json_clean,how = 'inner', on = 'tweet_id')\n",
    "twitter_master = twitter_master.merge(twitter_image_clean,how = 'inner', on = 'tweet_id')"
   ]
  },
  {
   "cell_type": "code",
   "execution_count": 36,
   "metadata": {
    "scrolled": true
   },
   "outputs": [
    {
     "data": {
      "text/html": [
       "<div>\n",
       "<style scoped>\n",
       "    .dataframe tbody tr th:only-of-type {\n",
       "        vertical-align: middle;\n",
       "    }\n",
       "\n",
       "    .dataframe tbody tr th {\n",
       "        vertical-align: top;\n",
       "    }\n",
       "\n",
       "    .dataframe thead th {\n",
       "        text-align: right;\n",
       "    }\n",
       "</style>\n",
       "<table border=\"1\" class=\"dataframe\">\n",
       "  <thead>\n",
       "    <tr style=\"text-align: right;\">\n",
       "      <th></th>\n",
       "      <th>tweet_id</th>\n",
       "      <th>timestamp</th>\n",
       "      <th>source</th>\n",
       "      <th>text</th>\n",
       "      <th>expanded_urls</th>\n",
       "      <th>rating_numerator</th>\n",
       "      <th>rating_denominator</th>\n",
       "      <th>name</th>\n",
       "      <th>dog_stage</th>\n",
       "      <th>favorite_count</th>\n",
       "      <th>...</th>\n",
       "      <th>img_num</th>\n",
       "      <th>p1</th>\n",
       "      <th>p1_conf</th>\n",
       "      <th>p1_dog</th>\n",
       "      <th>p2</th>\n",
       "      <th>p2_conf</th>\n",
       "      <th>p2_dog</th>\n",
       "      <th>p3</th>\n",
       "      <th>p3_conf</th>\n",
       "      <th>p3_dog</th>\n",
       "    </tr>\n",
       "  </thead>\n",
       "  <tbody>\n",
       "    <tr>\n",
       "      <th>0</th>\n",
       "      <td>892420643555336193</td>\n",
       "      <td>2017-08-01 16:23:56 +0000</td>\n",
       "      <td>&lt;a href=\"http://twitter.com/download/iphone\" rel=\"nofollow\"&gt;Twitter for iPhone&lt;/a&gt;</td>\n",
       "      <td>This is Phineas. He's a mystical boy. Only ever appears in the hole of a donut. 13/10 https://t.co/MgUWQ76dJU</td>\n",
       "      <td>https://twitter.com/dog_rates/status/892420643555336193/photo/1</td>\n",
       "      <td>13</td>\n",
       "      <td>10</td>\n",
       "      <td>Phineas</td>\n",
       "      <td>NaN</td>\n",
       "      <td>39492</td>\n",
       "      <td>...</td>\n",
       "      <td>1</td>\n",
       "      <td>orange</td>\n",
       "      <td>0.097049</td>\n",
       "      <td>False</td>\n",
       "      <td>bagel</td>\n",
       "      <td>0.085851</td>\n",
       "      <td>False</td>\n",
       "      <td>banana</td>\n",
       "      <td>0.076110</td>\n",
       "      <td>False</td>\n",
       "    </tr>\n",
       "    <tr>\n",
       "      <th>1</th>\n",
       "      <td>892177421306343426</td>\n",
       "      <td>2017-08-01 00:17:27 +0000</td>\n",
       "      <td>&lt;a href=\"http://twitter.com/download/iphone\" rel=\"nofollow\"&gt;Twitter for iPhone&lt;/a&gt;</td>\n",
       "      <td>This is Tilly. She's just checking pup on you. Hopes you're doing ok. If not, she's available for pats, snugs, boops, the whole bit. 13/10 https://t.co/0Xxu71qeIV</td>\n",
       "      <td>https://twitter.com/dog_rates/status/892177421306343426/photo/1</td>\n",
       "      <td>13</td>\n",
       "      <td>10</td>\n",
       "      <td>Tilly</td>\n",
       "      <td>NaN</td>\n",
       "      <td>33786</td>\n",
       "      <td>...</td>\n",
       "      <td>1</td>\n",
       "      <td>Chihuahua</td>\n",
       "      <td>0.323581</td>\n",
       "      <td>True</td>\n",
       "      <td>Pekinese</td>\n",
       "      <td>0.090647</td>\n",
       "      <td>True</td>\n",
       "      <td>papillon</td>\n",
       "      <td>0.068957</td>\n",
       "      <td>True</td>\n",
       "    </tr>\n",
       "    <tr>\n",
       "      <th>2</th>\n",
       "      <td>891815181378084864</td>\n",
       "      <td>2017-07-31 00:18:03 +0000</td>\n",
       "      <td>&lt;a href=\"http://twitter.com/download/iphone\" rel=\"nofollow\"&gt;Twitter for iPhone&lt;/a&gt;</td>\n",
       "      <td>This is Archie. He is a rare Norwegian Pouncing Corgo. Lives in the tall grass. You never know when one may strike. 12/10 https://t.co/wUnZnhtVJB</td>\n",
       "      <td>https://twitter.com/dog_rates/status/891815181378084864/photo/1</td>\n",
       "      <td>12</td>\n",
       "      <td>10</td>\n",
       "      <td>Archie</td>\n",
       "      <td>NaN</td>\n",
       "      <td>25445</td>\n",
       "      <td>...</td>\n",
       "      <td>1</td>\n",
       "      <td>Chihuahua</td>\n",
       "      <td>0.716012</td>\n",
       "      <td>True</td>\n",
       "      <td>malamute</td>\n",
       "      <td>0.078253</td>\n",
       "      <td>True</td>\n",
       "      <td>kelpie</td>\n",
       "      <td>0.031379</td>\n",
       "      <td>True</td>\n",
       "    </tr>\n",
       "  </tbody>\n",
       "</table>\n",
       "<p>3 rows × 22 columns</p>\n",
       "</div>"
      ],
      "text/plain": [
       "             tweet_id                  timestamp  \\\n",
       "0  892420643555336193  2017-08-01 16:23:56 +0000   \n",
       "1  892177421306343426  2017-08-01 00:17:27 +0000   \n",
       "2  891815181378084864  2017-07-31 00:18:03 +0000   \n",
       "\n",
       "                                                                               source  \\\n",
       "0  <a href=\"http://twitter.com/download/iphone\" rel=\"nofollow\">Twitter for iPhone</a>   \n",
       "1  <a href=\"http://twitter.com/download/iphone\" rel=\"nofollow\">Twitter for iPhone</a>   \n",
       "2  <a href=\"http://twitter.com/download/iphone\" rel=\"nofollow\">Twitter for iPhone</a>   \n",
       "\n",
       "                                                                                                                                                                 text  \\\n",
       "0                                                       This is Phineas. He's a mystical boy. Only ever appears in the hole of a donut. 13/10 https://t.co/MgUWQ76dJU   \n",
       "1  This is Tilly. She's just checking pup on you. Hopes you're doing ok. If not, she's available for pats, snugs, boops, the whole bit. 13/10 https://t.co/0Xxu71qeIV   \n",
       "2                   This is Archie. He is a rare Norwegian Pouncing Corgo. Lives in the tall grass. You never know when one may strike. 12/10 https://t.co/wUnZnhtVJB   \n",
       "\n",
       "                                                     expanded_urls  \\\n",
       "0  https://twitter.com/dog_rates/status/892420643555336193/photo/1   \n",
       "1  https://twitter.com/dog_rates/status/892177421306343426/photo/1   \n",
       "2  https://twitter.com/dog_rates/status/891815181378084864/photo/1   \n",
       "\n",
       "   rating_numerator  rating_denominator     name dog_stage  favorite_count  \\\n",
       "0                13                  10  Phineas       NaN           39492   \n",
       "1                13                  10    Tilly       NaN           33786   \n",
       "2                12                  10   Archie       NaN           25445   \n",
       "\n",
       "   ...    img_num         p1   p1_conf p1_dog        p2   p2_conf p2_dog  \\\n",
       "0  ...          1     orange  0.097049  False     bagel  0.085851  False   \n",
       "1  ...          1  Chihuahua  0.323581   True  Pekinese  0.090647   True   \n",
       "2  ...          1  Chihuahua  0.716012   True  malamute  0.078253   True   \n",
       "\n",
       "         p3   p3_conf p3_dog  \n",
       "0    banana  0.076110  False  \n",
       "1  papillon  0.068957   True  \n",
       "2    kelpie  0.031379   True  \n",
       "\n",
       "[3 rows x 22 columns]"
      ]
     },
     "execution_count": 36,
     "metadata": {},
     "output_type": "execute_result"
    }
   ],
   "source": [
    "twitter_master.head(3)"
   ]
  },
  {
   "cell_type": "code",
   "execution_count": 37,
   "metadata": {},
   "outputs": [
    {
     "name": "stdout",
     "output_type": "stream",
     "text": [
      "<class 'pandas.core.frame.DataFrame'>\n",
      "Int64Index: 1994 entries, 0 to 1993\n",
      "Data columns (total 22 columns):\n",
      "tweet_id              1994 non-null int64\n",
      "timestamp             1994 non-null object\n",
      "source                1994 non-null object\n",
      "text                  1994 non-null object\n",
      "expanded_urls         1994 non-null object\n",
      "rating_numerator      1994 non-null int64\n",
      "rating_denominator    1994 non-null int64\n",
      "name                  1448 non-null object\n",
      "dog_stage             306 non-null object\n",
      "favorite_count        1994 non-null int64\n",
      "retweet_count         1994 non-null int64\n",
      "jpg_url               1994 non-null object\n",
      "img_num               1994 non-null int64\n",
      "p1                    1994 non-null object\n",
      "p1_conf               1994 non-null float64\n",
      "p1_dog                1994 non-null bool\n",
      "p2                    1994 non-null object\n",
      "p2_conf               1994 non-null float64\n",
      "p2_dog                1994 non-null bool\n",
      "p3                    1994 non-null object\n",
      "p3_conf               1994 non-null float64\n",
      "p3_dog                1994 non-null bool\n",
      "dtypes: bool(3), float64(3), int64(6), object(10)\n",
      "memory usage: 317.4+ KB\n"
     ]
    }
   ],
   "source": [
    "twitter_master.info()"
   ]
  },
  {
   "cell_type": "markdown",
   "metadata": {},
   "source": [
    "#### 2.3.3 解决数据质量问题\n",
    "\n",
    "**定义**\n",
    "\n",
    "更改数据类型问题：\n",
    "- timestamp列数据类型是object，\n",
    "- tweet_id列数据类型是应该是字符串\n",
    "- 使用方法：pd.to_datetime和astype函数更改\n",
    "\n",
    "**代码**"
   ]
  },
  {
   "cell_type": "code",
   "execution_count": 38,
   "metadata": {},
   "outputs": [],
   "source": [
    "#使用strptime函数更改timestamp的数据类型\n",
    "twitter_master['timestamp'] = twitter_master['timestamp'].str[:-6]\n",
    "#type(twitter_master['timestamp'][0])\n",
    "twitter_master['timestamp'] = pd.to_datetime(twitter_master['timestamp'],format='%Y-%m-%d %H:%M:%S')"
   ]
  },
  {
   "cell_type": "code",
   "execution_count": 39,
   "metadata": {},
   "outputs": [],
   "source": [
    "#更改tweet_id数据类型为str\n",
    "twitter_master['tweet_id'] = twitter_master['tweet_id'].astype(str)"
   ]
  },
  {
   "cell_type": "markdown",
   "metadata": {},
   "source": [
    "**测试**"
   ]
  },
  {
   "cell_type": "code",
   "execution_count": 40,
   "metadata": {},
   "outputs": [
    {
     "name": "stdout",
     "output_type": "stream",
     "text": [
      "<class 'pandas.core.frame.DataFrame'>\n",
      "Int64Index: 1994 entries, 0 to 1993\n",
      "Data columns (total 22 columns):\n",
      "tweet_id              1994 non-null object\n",
      "timestamp             1994 non-null datetime64[ns]\n",
      "source                1994 non-null object\n",
      "text                  1994 non-null object\n",
      "expanded_urls         1994 non-null object\n",
      "rating_numerator      1994 non-null int64\n",
      "rating_denominator    1994 non-null int64\n",
      "name                  1448 non-null object\n",
      "dog_stage             306 non-null object\n",
      "favorite_count        1994 non-null int64\n",
      "retweet_count         1994 non-null int64\n",
      "jpg_url               1994 non-null object\n",
      "img_num               1994 non-null int64\n",
      "p1                    1994 non-null object\n",
      "p1_conf               1994 non-null float64\n",
      "p1_dog                1994 non-null bool\n",
      "p2                    1994 non-null object\n",
      "p2_conf               1994 non-null float64\n",
      "p2_dog                1994 non-null bool\n",
      "p3                    1994 non-null object\n",
      "p3_conf               1994 non-null float64\n",
      "p3_dog                1994 non-null bool\n",
      "dtypes: bool(3), datetime64[ns](1), float64(3), int64(5), object(10)\n",
      "memory usage: 317.4+ KB\n"
     ]
    }
   ],
   "source": [
    "twitter_master.info()"
   ]
  },
  {
   "cell_type": "code",
   "execution_count": 41,
   "metadata": {
    "scrolled": true
   },
   "outputs": [
    {
     "data": {
      "text/html": [
       "<div>\n",
       "<style scoped>\n",
       "    .dataframe tbody tr th:only-of-type {\n",
       "        vertical-align: middle;\n",
       "    }\n",
       "\n",
       "    .dataframe tbody tr th {\n",
       "        vertical-align: top;\n",
       "    }\n",
       "\n",
       "    .dataframe thead th {\n",
       "        text-align: right;\n",
       "    }\n",
       "</style>\n",
       "<table border=\"1\" class=\"dataframe\">\n",
       "  <thead>\n",
       "    <tr style=\"text-align: right;\">\n",
       "      <th></th>\n",
       "      <th>tweet_id</th>\n",
       "      <th>timestamp</th>\n",
       "      <th>source</th>\n",
       "      <th>text</th>\n",
       "      <th>expanded_urls</th>\n",
       "      <th>rating_numerator</th>\n",
       "      <th>rating_denominator</th>\n",
       "      <th>name</th>\n",
       "      <th>dog_stage</th>\n",
       "      <th>favorite_count</th>\n",
       "      <th>...</th>\n",
       "      <th>img_num</th>\n",
       "      <th>p1</th>\n",
       "      <th>p1_conf</th>\n",
       "      <th>p1_dog</th>\n",
       "      <th>p2</th>\n",
       "      <th>p2_conf</th>\n",
       "      <th>p2_dog</th>\n",
       "      <th>p3</th>\n",
       "      <th>p3_conf</th>\n",
       "      <th>p3_dog</th>\n",
       "    </tr>\n",
       "  </thead>\n",
       "  <tbody>\n",
       "    <tr>\n",
       "      <th>0</th>\n",
       "      <td>892420643555336193</td>\n",
       "      <td>2017-08-01 16:23:56</td>\n",
       "      <td>&lt;a href=\"http://twitter.com/download/iphone\" rel=\"nofollow\"&gt;Twitter for iPhone&lt;/a&gt;</td>\n",
       "      <td>This is Phineas. He's a mystical boy. Only ever appears in the hole of a donut. 13/10 https://t.co/MgUWQ76dJU</td>\n",
       "      <td>https://twitter.com/dog_rates/status/892420643555336193/photo/1</td>\n",
       "      <td>13</td>\n",
       "      <td>10</td>\n",
       "      <td>Phineas</td>\n",
       "      <td>NaN</td>\n",
       "      <td>39492</td>\n",
       "      <td>...</td>\n",
       "      <td>1</td>\n",
       "      <td>orange</td>\n",
       "      <td>0.097049</td>\n",
       "      <td>False</td>\n",
       "      <td>bagel</td>\n",
       "      <td>0.085851</td>\n",
       "      <td>False</td>\n",
       "      <td>banana</td>\n",
       "      <td>0.07611</td>\n",
       "      <td>False</td>\n",
       "    </tr>\n",
       "  </tbody>\n",
       "</table>\n",
       "<p>1 rows × 22 columns</p>\n",
       "</div>"
      ],
      "text/plain": [
       "             tweet_id           timestamp  \\\n",
       "0  892420643555336193 2017-08-01 16:23:56   \n",
       "\n",
       "                                                                               source  \\\n",
       "0  <a href=\"http://twitter.com/download/iphone\" rel=\"nofollow\">Twitter for iPhone</a>   \n",
       "\n",
       "                                                                                                            text  \\\n",
       "0  This is Phineas. He's a mystical boy. Only ever appears in the hole of a donut. 13/10 https://t.co/MgUWQ76dJU   \n",
       "\n",
       "                                                     expanded_urls  \\\n",
       "0  https://twitter.com/dog_rates/status/892420643555336193/photo/1   \n",
       "\n",
       "   rating_numerator  rating_denominator     name dog_stage  favorite_count  \\\n",
       "0                13                  10  Phineas       NaN           39492   \n",
       "\n",
       "   ...    img_num      p1   p1_conf p1_dog     p2   p2_conf p2_dog      p3  \\\n",
       "0  ...          1  orange  0.097049  False  bagel  0.085851  False  banana   \n",
       "\n",
       "   p3_conf p3_dog  \n",
       "0  0.07611  False  \n",
       "\n",
       "[1 rows x 22 columns]"
      ]
     },
     "execution_count": 41,
     "metadata": {},
     "output_type": "execute_result"
    }
   ],
   "source": [
    "twitter_master.head(1)"
   ]
  },
  {
   "cell_type": "markdown",
   "metadata": {},
   "source": [
    "**定义** \n",
    "\n",
    "rating_numerator有一些值提取错误，例如9.75/10提取了75,没有考虑小数的可能\n",
    "        - 重新从text提取，考虑小数点的可能性\n",
    "**代码**"
   ]
  },
  {
   "cell_type": "code",
   "execution_count": 42,
   "metadata": {},
   "outputs": [],
   "source": [
    "#提取包括有小数的rating_numerator\n",
    "twitter_master['rating_numerator']= twitter_master.text.str.extract('(\\d+\\.?\\d*)\\/\\d+',expand=False)\n",
    "#这里的expand=True是返回dataframe, 如果是False返回series,新版本种的expand = None就是等于True"
   ]
  },
  {
   "cell_type": "code",
   "execution_count": 43,
   "metadata": {},
   "outputs": [],
   "source": [
    "#转换数据类型为float\n",
    "twitter_master['rating_numerator'] = twitter_master['rating_numerator'].astype(float)"
   ]
  },
  {
   "cell_type": "markdown",
   "metadata": {},
   "source": [
    "**测试**"
   ]
  },
  {
   "cell_type": "code",
   "execution_count": 44,
   "metadata": {
    "scrolled": true
   },
   "outputs": [
    {
     "name": "stdout",
     "output_type": "stream",
     "text": [
      "<class 'pandas.core.frame.DataFrame'>\n",
      "Int64Index: 1994 entries, 0 to 1993\n",
      "Data columns (total 22 columns):\n",
      "tweet_id              1994 non-null object\n",
      "timestamp             1994 non-null datetime64[ns]\n",
      "source                1994 non-null object\n",
      "text                  1994 non-null object\n",
      "expanded_urls         1994 non-null object\n",
      "rating_numerator      1994 non-null float64\n",
      "rating_denominator    1994 non-null int64\n",
      "name                  1448 non-null object\n",
      "dog_stage             306 non-null object\n",
      "favorite_count        1994 non-null int64\n",
      "retweet_count         1994 non-null int64\n",
      "jpg_url               1994 non-null object\n",
      "img_num               1994 non-null int64\n",
      "p1                    1994 non-null object\n",
      "p1_conf               1994 non-null float64\n",
      "p1_dog                1994 non-null bool\n",
      "p2                    1994 non-null object\n",
      "p2_conf               1994 non-null float64\n",
      "p2_dog                1994 non-null bool\n",
      "p3                    1994 non-null object\n",
      "p3_conf               1994 non-null float64\n",
      "p3_dog                1994 non-null bool\n",
      "dtypes: bool(3), datetime64[ns](1), float64(4), int64(4), object(10)\n",
      "memory usage: 317.4+ KB\n"
     ]
    }
   ],
   "source": [
    "twitter_master.info()"
   ]
  },
  {
   "cell_type": "code",
   "execution_count": 45,
   "metadata": {},
   "outputs": [
    {
     "data": {
      "text/plain": [
       "1"
      ]
     },
     "execution_count": 45,
     "metadata": {},
     "output_type": "execute_result"
    }
   ],
   "source": [
    "(twitter_master['rating_numerator']==9.75).sum()"
   ]
  },
  {
   "cell_type": "markdown",
   "metadata": {},
   "source": [
    "**定义**\n",
    "\n",
    "rating_denominator列有一些除了10以外的数据，将小于10的删除，将大于10的转换为10\n",
    "    - rating_numerator = rating_numerator*10/rating_denominator \n",
    "    - rating_denominator\n",
    "\n",
    "**代码**"
   ]
  },
  {
   "cell_type": "code",
   "execution_count": 46,
   "metadata": {},
   "outputs": [],
   "source": [
    "#将小于10rating_denominator的数据删除\n",
    "twitter_master = twitter_master[twitter_master.rating_denominator >=10]"
   ]
  },
  {
   "cell_type": "code",
   "execution_count": 47,
   "metadata": {},
   "outputs": [],
   "source": [
    "#大于10rating_denominator的数据缩小到10\n",
    "twitter_master['rating_numerator'] = 10*(twitter_master.rating_numerator.div(twitter_master.rating_denominator,axis = 'index'))\n",
    "#twitter_master.rating_denominator[-(twitter_master.rating_denominator.isnull())] = 10\n",
    "twitter_master.loc[twitter_master.rating_denominator.notnull(),'rating_denominator'] = 10"
   ]
  },
  {
   "cell_type": "markdown",
   "metadata": {},
   "source": [
    "**测试**"
   ]
  },
  {
   "cell_type": "code",
   "execution_count": 48,
   "metadata": {
    "scrolled": true
   },
   "outputs": [
    {
     "data": {
      "text/plain": [
       "10    1992\n",
       "Name: rating_denominator, dtype: int64"
      ]
     },
     "execution_count": 48,
     "metadata": {},
     "output_type": "execute_result"
    }
   ],
   "source": [
    "twitter_master.rating_denominator.value_counts()"
   ]
  },
  {
   "cell_type": "code",
   "execution_count": 49,
   "metadata": {},
   "outputs": [
    {
     "data": {
      "text/plain": [
       "12.000000      454\n",
       "10.000000      421\n",
       "11.000000      402\n",
       "13.000000      261\n",
       "9.000000       151\n",
       "8.000000        95\n",
       "7.000000        51\n",
       "14.000000       35\n",
       "5.000000        32\n",
       "6.000000        32\n",
       "3.000000        19\n",
       "4.000000        15\n",
       "2.000000        10\n",
       "1.000000         4\n",
       "0.000000         2\n",
       "11.260000        1\n",
       "1776.000000      1\n",
       "9.750000         1\n",
       "11.270000        1\n",
       "8.181818         1\n",
       "13.500000        1\n",
       "6.363636         1\n",
       "420.000000       1\n",
       "Name: rating_numerator, dtype: int64"
      ]
     },
     "execution_count": 49,
     "metadata": {},
     "output_type": "execute_result"
    }
   ],
   "source": [
    "twitter_master.rating_numerator.value_counts()"
   ]
  },
  {
   "cell_type": "markdown",
   "metadata": {},
   "source": [
    "**定义**\n",
    "\n",
    "rating_numerator有一些异常值,将异常值删除\n",
    "\n",
    "**代码**"
   ]
  },
  {
   "cell_type": "code",
   "execution_count": 50,
   "metadata": {},
   "outputs": [],
   "source": [
    "#删除大于20的值\n",
    "twitter_master = twitter_master[-(twitter_master.rating_numerator > 20)]"
   ]
  },
  {
   "cell_type": "markdown",
   "metadata": {},
   "source": [
    "**测试**"
   ]
  },
  {
   "cell_type": "code",
   "execution_count": 51,
   "metadata": {},
   "outputs": [
    {
     "data": {
      "text/plain": [
       "12.000000    454\n",
       "10.000000    421\n",
       "11.000000    402\n",
       "13.000000    261\n",
       "9.000000     151\n",
       "8.000000      95\n",
       "7.000000      51\n",
       "14.000000     35\n",
       "5.000000      32\n",
       "6.000000      32\n",
       "3.000000      19\n",
       "4.000000      15\n",
       "2.000000      10\n",
       "1.000000       4\n",
       "0.000000       2\n",
       "8.181818       1\n",
       "9.750000       1\n",
       "13.500000      1\n",
       "11.260000      1\n",
       "11.270000      1\n",
       "6.363636       1\n",
       "Name: rating_numerator, dtype: int64"
      ]
     },
     "execution_count": 51,
     "metadata": {},
     "output_type": "execute_result"
    }
   ],
   "source": [
    "twitter_master.rating_numerator.value_counts()"
   ]
  },
  {
   "cell_type": "code",
   "execution_count": 52,
   "metadata": {},
   "outputs": [
    {
     "name": "stdout",
     "output_type": "stream",
     "text": [
      "<class 'pandas.core.frame.DataFrame'>\n",
      "Int64Index: 1990 entries, 0 to 1993\n",
      "Data columns (total 22 columns):\n",
      "tweet_id              1990 non-null object\n",
      "timestamp             1990 non-null datetime64[ns]\n",
      "source                1990 non-null object\n",
      "text                  1990 non-null object\n",
      "expanded_urls         1990 non-null object\n",
      "rating_numerator      1990 non-null float64\n",
      "rating_denominator    1990 non-null int64\n",
      "name                  1445 non-null object\n",
      "dog_stage             306 non-null object\n",
      "favorite_count        1990 non-null int64\n",
      "retweet_count         1990 non-null int64\n",
      "jpg_url               1990 non-null object\n",
      "img_num               1990 non-null int64\n",
      "p1                    1990 non-null object\n",
      "p1_conf               1990 non-null float64\n",
      "p1_dog                1990 non-null bool\n",
      "p2                    1990 non-null object\n",
      "p2_conf               1990 non-null float64\n",
      "p2_dog                1990 non-null bool\n",
      "p3                    1990 non-null object\n",
      "p3_conf               1990 non-null float64\n",
      "p3_dog                1990 non-null bool\n",
      "dtypes: bool(3), datetime64[ns](1), float64(4), int64(4), object(10)\n",
      "memory usage: 316.8+ KB\n"
     ]
    }
   ],
   "source": [
    "twitter_master.info()"
   ]
  },
  {
   "cell_type": "markdown",
   "metadata": {},
   "source": [
    "**定义**\n",
    "\n",
    "name列含有一些诸如a,an,the等的非名字的词，此类信息里面也没有提供名字，所以删除，具有的特点是都是小写，将小写词筛选出来删除。\n",
    "\n",
    "**代码**"
   ]
  },
  {
   "cell_type": "code",
   "execution_count": 53,
   "metadata": {},
   "outputs": [
    {
     "data": {
      "text/plain": [
       "19              such\n",
       "120            quite\n",
       "134            quite\n",
       "252              one\n",
       "369       incredibly\n",
       "429                a\n",
       "528                a\n",
       "541             very\n",
       "567               my\n",
       "622              one\n",
       "666              not\n",
       "670              his\n",
       "671              one\n",
       "677                a\n",
       "679                a\n",
       "688                a\n",
       "693               an\n",
       "699             very\n",
       "720             just\n",
       "727          getting\n",
       "746             very\n",
       "765             this\n",
       "766     unacceptable\n",
       "824                a\n",
       "833                a\n",
       "875      infuriating\n",
       "945                a\n",
       "952                a\n",
       "953               an\n",
       "957                a\n",
       "            ...     \n",
       "1658               a\n",
       "1664               a\n",
       "1671               a\n",
       "1680               a\n",
       "1694               a\n",
       "1710               a\n",
       "1717               a\n",
       "1720               a\n",
       "1732           quite\n",
       "1733               a\n",
       "1739              an\n",
       "1740               a\n",
       "1751             the\n",
       "1752             the\n",
       "1753               a\n",
       "1754               a\n",
       "1755              an\n",
       "1756               a\n",
       "1758               a\n",
       "1759               a\n",
       "1760               a\n",
       "1771               a\n",
       "1815               a\n",
       "1825             all\n",
       "1847               a\n",
       "1855               a\n",
       "1865            just\n",
       "1894             the\n",
       "1930             the\n",
       "1951             one\n",
       "Name: name, Length: 97, dtype: object"
      ]
     },
     "execution_count": 53,
     "metadata": {},
     "output_type": "execute_result"
    }
   ],
   "source": [
    "#测试正则表达式能否筛选出name列中小写的词\n",
    "twitter_master.name[-twitter_master.name.str.extract('(^[a-z][a-z]*)',expand = False).isnull()]"
   ]
  },
  {
   "cell_type": "code",
   "execution_count": 54,
   "metadata": {},
   "outputs": [],
   "source": [
    "#name列是小写的替换为np.nan\n",
    "twitter_master.name[-twitter_master.name.str.extract('(^[a-z][a-z]*)',expand= False).isnull()]=np.nan"
   ]
  },
  {
   "cell_type": "markdown",
   "metadata": {},
   "source": [
    "**测试**"
   ]
  },
  {
   "cell_type": "code",
   "execution_count": 55,
   "metadata": {},
   "outputs": [
    {
     "data": {
      "text/plain": [
       "Series([], Name: name, dtype: object)"
      ]
     },
     "execution_count": 55,
     "metadata": {},
     "output_type": "execute_result"
    }
   ],
   "source": [
    "twitter_master.name[-twitter_master.name.str.extract('(^[a-z][a-z]*)',expand=False).isnull()]"
   ]
  },
  {
   "cell_type": "code",
   "execution_count": 56,
   "metadata": {},
   "outputs": [
    {
     "data": {
      "text/plain": [
       "Charlie       11\n",
       "Lucy          10\n",
       "Oliver        10\n",
       "Cooper        10\n",
       "Tucker         9\n",
       "Penny          9\n",
       "Sadie          8\n",
       "Winston        8\n",
       "Lola           7\n",
       "Toby           7\n",
       "Daisy          7\n",
       "Bella          6\n",
       "Bo             6\n",
       "Jax            6\n",
       "Koda           6\n",
       "Stanley        6\n",
       "Bailey         5\n",
       "Leo            5\n",
       "Milo           5\n",
       "Oscar          5\n",
       "Dave           5\n",
       "Rusty          5\n",
       "Chester        5\n",
       "Scout          5\n",
       "Buddy          5\n",
       "Louis          5\n",
       "Finn           4\n",
       "Duke           4\n",
       "Gary           4\n",
       "Bear           4\n",
       "              ..\n",
       "Horace         1\n",
       "Duddles        1\n",
       "Saydee         1\n",
       "Iroh           1\n",
       "Brandonald     1\n",
       "Chompsky       1\n",
       "Meera          1\n",
       "Longfellow     1\n",
       "Ozzy           1\n",
       "Livvie         1\n",
       "JD             1\n",
       "Carly          1\n",
       "Antony         1\n",
       "Canela         1\n",
       "Hall           1\n",
       "Todo           1\n",
       "Noosh          1\n",
       "Shaggy         1\n",
       "Shiloh         1\n",
       "Murphy         1\n",
       "Jangle         1\n",
       "Amy            1\n",
       "Lenox          1\n",
       "Ole            1\n",
       "Rizzy          1\n",
       "Pepper         1\n",
       "Zuzu           1\n",
       "Fido           1\n",
       "Franq          1\n",
       "Bert           1\n",
       "Name: name, Length: 913, dtype: int64"
      ]
     },
     "execution_count": 56,
     "metadata": {},
     "output_type": "execute_result"
    }
   ],
   "source": [
    "twitter_master.name.value_counts()"
   ]
  },
  {
   "cell_type": "markdown",
   "metadata": {},
   "source": [
    "**定义**\n",
    "\n",
    "p1,p2,p3可以使用更描述性的词，p1,p2,p3更改为prediction1,prediction2,prediction3\n",
    "\n",
    "**代码**"
   ]
  },
  {
   "cell_type": "code",
   "execution_count": 57,
   "metadata": {},
   "outputs": [],
   "source": [
    "twitter_master= twitter_master.rename(columns = {'p1':'prediction1',\n",
    "                                                 'p2':'prediction2',\n",
    "                                                 'p3':'prediction3',\n",
    "                                                 'p1_dog':'pred1_dog',\n",
    "                                                 'p2_dog':'pred2_dog',\n",
    "                                                 'p3_dog':'pred3_dog',\n",
    "                                                 'p1_conf':'pred1_conf',\n",
    "                                                 'p2_conf':'pred2_conf',\n",
    "                                                 'p3_conf':'pred3_conf'})"
   ]
  },
  {
   "cell_type": "markdown",
   "metadata": {},
   "source": [
    "**测试**"
   ]
  },
  {
   "cell_type": "code",
   "execution_count": 58,
   "metadata": {},
   "outputs": [
    {
     "data": {
      "text/plain": [
       "Index(['tweet_id', 'timestamp', 'source', 'text', 'expanded_urls',\n",
       "       'rating_numerator', 'rating_denominator', 'name', 'dog_stage',\n",
       "       'favorite_count', 'retweet_count', 'jpg_url', 'img_num', 'prediction1',\n",
       "       'pred1_conf', 'pred1_dog', 'prediction2', 'pred2_conf', 'pred2_dog',\n",
       "       'prediction3', 'pred3_conf', 'pred3_dog'],\n",
       "      dtype='object')"
      ]
     },
     "execution_count": 58,
     "metadata": {},
     "output_type": "execute_result"
    }
   ],
   "source": [
    "twitter_master.columns"
   ]
  },
  {
   "cell_type": "markdown",
   "metadata": {},
   "source": [
    "#### 2.3.4 保存清理后的数据"
   ]
  },
  {
   "cell_type": "code",
   "execution_count": 59,
   "metadata": {
    "scrolled": true
   },
   "outputs": [
    {
     "name": "stdout",
     "output_type": "stream",
     "text": [
      "<class 'pandas.core.frame.DataFrame'>\n",
      "Int64Index: 1990 entries, 0 to 1993\n",
      "Data columns (total 22 columns):\n",
      "tweet_id              1990 non-null object\n",
      "timestamp             1990 non-null datetime64[ns]\n",
      "source                1990 non-null object\n",
      "text                  1990 non-null object\n",
      "expanded_urls         1990 non-null object\n",
      "rating_numerator      1990 non-null float64\n",
      "rating_denominator    1990 non-null int64\n",
      "name                  1348 non-null object\n",
      "dog_stage             306 non-null object\n",
      "favorite_count        1990 non-null int64\n",
      "retweet_count         1990 non-null int64\n",
      "jpg_url               1990 non-null object\n",
      "img_num               1990 non-null int64\n",
      "prediction1           1990 non-null object\n",
      "pred1_conf            1990 non-null float64\n",
      "pred1_dog             1990 non-null bool\n",
      "prediction2           1990 non-null object\n",
      "pred2_conf            1990 non-null float64\n",
      "pred2_dog             1990 non-null bool\n",
      "prediction3           1990 non-null object\n",
      "pred3_conf            1990 non-null float64\n",
      "pred3_dog             1990 non-null bool\n",
      "dtypes: bool(3), datetime64[ns](1), float64(4), int64(4), object(10)\n",
      "memory usage: 316.8+ KB\n"
     ]
    }
   ],
   "source": [
    "twitter_master.info()"
   ]
  },
  {
   "cell_type": "code",
   "execution_count": 60,
   "metadata": {},
   "outputs": [],
   "source": [
    "twitter_master.to_csv('./twitter_archive_master.csv',index=False)"
   ]
  },
  {
   "cell_type": "markdown",
   "metadata": {},
   "source": [
    "<a id=\"exploration\">"
   ]
  },
  {
   "cell_type": "markdown",
   "metadata": {},
   "source": [
    "## 3.探索性数据分析\n",
    "\n",
    "### 3.1 探索的问题1:\n",
    "\n",
    "**推特主一天当中喜欢在哪个时段发推特？一周当中喜欢在哪天发推特？**"
   ]
  },
  {
   "cell_type": "code",
   "execution_count": 61,
   "metadata": {},
   "outputs": [],
   "source": [
    "#将hour提取形成单独一列，对其分析，将周日提取形成单独一列，对其分析\n",
    "twitter_master['hour'] = twitter_master.timestamp.dt.hour\n",
    "twitter_master['weekday'] = twitter_master.timestamp.dt.weekday"
   ]
  },
  {
   "cell_type": "code",
   "execution_count": 62,
   "metadata": {},
   "outputs": [
    {
     "data": {
      "text/html": [
       "<div>\n",
       "<style scoped>\n",
       "    .dataframe tbody tr th:only-of-type {\n",
       "        vertical-align: middle;\n",
       "    }\n",
       "\n",
       "    .dataframe tbody tr th {\n",
       "        vertical-align: top;\n",
       "    }\n",
       "\n",
       "    .dataframe thead th {\n",
       "        text-align: right;\n",
       "    }\n",
       "</style>\n",
       "<table border=\"1\" class=\"dataframe\">\n",
       "  <thead>\n",
       "    <tr style=\"text-align: right;\">\n",
       "      <th></th>\n",
       "      <th>tweet_id</th>\n",
       "      <th>timestamp</th>\n",
       "      <th>source</th>\n",
       "      <th>text</th>\n",
       "      <th>expanded_urls</th>\n",
       "      <th>rating_numerator</th>\n",
       "      <th>rating_denominator</th>\n",
       "      <th>name</th>\n",
       "      <th>dog_stage</th>\n",
       "      <th>favorite_count</th>\n",
       "      <th>...</th>\n",
       "      <th>pred1_conf</th>\n",
       "      <th>pred1_dog</th>\n",
       "      <th>prediction2</th>\n",
       "      <th>pred2_conf</th>\n",
       "      <th>pred2_dog</th>\n",
       "      <th>prediction3</th>\n",
       "      <th>pred3_conf</th>\n",
       "      <th>pred3_dog</th>\n",
       "      <th>hour</th>\n",
       "      <th>weekday</th>\n",
       "    </tr>\n",
       "  </thead>\n",
       "  <tbody>\n",
       "    <tr>\n",
       "      <th>1600</th>\n",
       "      <td>668960084974809088</td>\n",
       "      <td>2015-11-24 01:11:27</td>\n",
       "      <td>&lt;a href=\"http://twitter.com/download/iphone\" rel=\"nofollow\"&gt;Twitter for iPhone&lt;/a&gt;</td>\n",
       "      <td>Meet Jaycob. He got scared of the vacuum. Hide &amp;amp; seek champ. Almost better than Kony. Solid shampoo selection. 10/10 https://t.co/952hUV6RiK</td>\n",
       "      <td>https://twitter.com/dog_rates/status/668960084974809088/photo/1</td>\n",
       "      <td>10.0</td>\n",
       "      <td>10</td>\n",
       "      <td>Jaycob</td>\n",
       "      <td>NaN</td>\n",
       "      <td>753</td>\n",
       "      <td>...</td>\n",
       "      <td>0.226309</td>\n",
       "      <td>False</td>\n",
       "      <td>Chesapeake_Bay_retriever</td>\n",
       "      <td>0.165878</td>\n",
       "      <td>True</td>\n",
       "      <td>bathtub</td>\n",
       "      <td>0.056726</td>\n",
       "      <td>False</td>\n",
       "      <td>1</td>\n",
       "      <td>1</td>\n",
       "    </tr>\n",
       "  </tbody>\n",
       "</table>\n",
       "<p>1 rows × 24 columns</p>\n",
       "</div>"
      ],
      "text/plain": [
       "                tweet_id           timestamp  \\\n",
       "1600  668960084974809088 2015-11-24 01:11:27   \n",
       "\n",
       "                                                                                  source  \\\n",
       "1600  <a href=\"http://twitter.com/download/iphone\" rel=\"nofollow\">Twitter for iPhone</a>   \n",
       "\n",
       "                                                                                                                                                  text  \\\n",
       "1600  Meet Jaycob. He got scared of the vacuum. Hide &amp; seek champ. Almost better than Kony. Solid shampoo selection. 10/10 https://t.co/952hUV6RiK   \n",
       "\n",
       "                                                        expanded_urls  \\\n",
       "1600  https://twitter.com/dog_rates/status/668960084974809088/photo/1   \n",
       "\n",
       "      rating_numerator  rating_denominator    name dog_stage  favorite_count  \\\n",
       "1600              10.0                  10  Jaycob       NaN             753   \n",
       "\n",
       "       ...    pred1_conf pred1_dog               prediction2 pred2_conf  \\\n",
       "1600   ...      0.226309     False  Chesapeake_Bay_retriever   0.165878   \n",
       "\n",
       "      pred2_dog  prediction3 pred3_conf  pred3_dog  hour weekday  \n",
       "1600       True      bathtub   0.056726      False     1       1  \n",
       "\n",
       "[1 rows x 24 columns]"
      ]
     },
     "execution_count": 62,
     "metadata": {},
     "output_type": "execute_result"
    }
   ],
   "source": [
    "twitter_master.sample(1)"
   ]
  },
  {
   "cell_type": "code",
   "execution_count": 63,
   "metadata": {},
   "outputs": [],
   "source": [
    "hour_counts = twitter_master.hour.value_counts().sort_index()\n",
    "weekday_counts = twitter_master.weekday.value_counts().sort_index()"
   ]
  },
  {
   "cell_type": "code",
   "execution_count": 64,
   "metadata": {},
   "outputs": [
    {
     "data": {
      "image/png": "[encoded data removed]",
      "text/plain": [
       "<Figure size 432x288 with 1 Axes>"
      ]
     },
     "metadata": {},
     "output_type": "display_data"
    }
   ],
   "source": [
    "hour_loc = list(range(len(hour_counts)))\n",
    "hour_label = list(hour_counts.index);\n",
    "plt.bar(hour_loc,hour_counts.values);\n",
    "plt.xticks(hour_loc,hour_label);\n",
    "plt.xlabel('Hour in 24');\n",
    "plt.ylabel('Tweet counts in Hour');\n",
    "plt.title('the Tweet Counts in Each Hour of Day');"
   ]
  },
  {
   "cell_type": "code",
   "execution_count": 65,
   "metadata": {},
   "outputs": [
    {
     "data": {
      "image/png": "[encoded data removed]",
      "text/plain": [
       "<Figure size 432x288 with 1 Axes>"
      ]
     },
     "metadata": {},
     "output_type": "display_data"
    }
   ],
   "source": [
    "weekday_loc = list(range(len(weekday_counts)))\n",
    "weekday_label = ['Mon.','Tue.','Wed.','Thur.','Fri.','Sat.','Sun.']\n",
    "plt.bar(weekday_loc,weekday_counts.values);\n",
    "plt.xticks(weekday_loc,weekday_label);\n",
    "plt.xlabel('Weekday');\n",
    "plt.ylabel('Tweet counts in Each Weekday');\n",
    "plt.title('the Tweet Counts in Each Weekday');"
   ]
  },
  {
   "cell_type": "markdown",
   "metadata": {},
   "source": [
    "**分析与结论：**\n",
    "- 从第一张图可以看出，推特主明显喜欢在凌晨0点1点2点3点，及下午16点17点发推特，并且从上午6点到下午14点发推特比较少。\n",
    "- 从第二张图片可以看出，一周当中，在周一到周日发推特喜好差不多，没有明显变化，周一最多，周末相对少。\n",
    "\n",
    "### 3.2 探索的问题2:\n",
    "\n",
    "**推特主对狗的评分高低(rating_numerator)是否与其粉丝中的大多数喜好(retweet_count&favorite_count)一致？**\n",
    "\n",
    "    `主要看rating_numerator与retweet_count及favorite_count的线性关系`"
   ]
  },
  {
   "cell_type": "code",
   "execution_count": 66,
   "metadata": {
    "scrolled": true
   },
   "outputs": [
    {
     "data": {
      "image/png": "[encoded data removed]",
      "text/plain": [
       "<Figure size 432x288 with 1 Axes>"
      ]
     },
     "metadata": {},
     "output_type": "display_data"
    }
   ],
   "source": [
    "x = twitter_master.rating_numerator.values\n",
    "y1 = twitter_master.favorite_count.values\n",
    "plt.scatter(x,y1);\n",
    "plt.xlabel('Rating_Numerator');\n",
    "plt.ylabel('Favorite_Count');\n",
    "plt.title('Rating_Numerator VS Favorite_Count');"
   ]
  },
  {
   "cell_type": "code",
   "execution_count": 67,
   "metadata": {},
   "outputs": [
    {
     "data": {
      "image/png": "[encoded data removed]",
      "text/plain": [
       "<Figure size 432x288 with 1 Axes>"
      ]
     },
     "metadata": {},
     "output_type": "display_data"
    }
   ],
   "source": [
    "x = twitter_master.rating_numerator.values\n",
    "y2 = twitter_master.retweet_count.values\n",
    "plt.scatter(x,y2);\n",
    "plt.xlabel('Rating_Numerator');\n",
    "plt.ylabel('Retweet_Count');\n",
    "plt.title('Rating_Numerator VS Retweet_Count');"
   ]
  },
  {
   "cell_type": "code",
   "execution_count": 68,
   "metadata": {},
   "outputs": [
    {
     "data": {
      "text/plain": [
       "array([[1.        , 0.40210626],\n",
       "       [0.40210626, 1.        ]])"
      ]
     },
     "execution_count": 68,
     "metadata": {},
     "output_type": "execute_result"
    }
   ],
   "source": [
    "#计算Rating_Numerator与Favorite_Count相关系数\n",
    "np.corrcoef(x,y1)"
   ]
  },
  {
   "cell_type": "code",
   "execution_count": 69,
   "metadata": {},
   "outputs": [
    {
     "data": {
      "text/plain": [
       "array([[1.        , 0.29929837],\n",
       "       [0.29929837, 1.        ]])"
      ]
     },
     "execution_count": 69,
     "metadata": {},
     "output_type": "execute_result"
    }
   ],
   "source": [
    "#计算Rating_Numerator与Retweet_Count相关系数\n",
    "np.corrcoef(x,y2)"
   ]
  },
  {
   "cell_type": "code",
   "execution_count": 70,
   "metadata": {},
   "outputs": [
    {
     "data": {
      "text/plain": [
       "array([[1.        , 0.91494203],\n",
       "       [0.91494203, 1.        ]])"
      ]
     },
     "execution_count": 70,
     "metadata": {},
     "output_type": "execute_result"
    }
   ],
   "source": [
    "#计算Favorite_Count与Retweet_Count相关系数\n",
    "np.corrcoef(y1,y2)"
   ]
  },
  {
   "cell_type": "markdown",
   "metadata": {},
   "source": [
    "**分析与结论：**\n",
    "- 转发数和点赞数有高度相关，相关系数是0.91，这个也是符合常理，点赞和转发都是对其喜欢的表现。\n",
    "- 推特主对狗的评分与转发数和点赞数有低度相关，相关系数分别是0.30和0.40。说明每个人对狗都有自己的偏好，推特主的评分不能完全代表粉丝群体对狗的评分。\n",
    "\n",
    "### 3.3 探索的问题3:\n",
    "\n",
    "**哪种地位的狗狗最受人们喜欢？**"
   ]
  },
  {
   "cell_type": "code",
   "execution_count": 71,
   "metadata": {},
   "outputs": [],
   "source": [
    "dog_stage_favor_count = twitter_master.groupby(['dog_stage'])['favorite_count'].sum().sort_values()\n",
    "dog_stage_retweet_count = twitter_master.groupby(['dog_stage'])['retweet_count'].sum().sort_values()"
   ]
  },
  {
   "cell_type": "code",
   "execution_count": 72,
   "metadata": {
    "scrolled": true
   },
   "outputs": [
    {
     "data": {
      "text/plain": [
       "Text(0.5,1,'Favorite(yellowgreen)  Retweet(skyblue)')"
      ]
     },
     "execution_count": 72,
     "metadata": {},
     "output_type": "execute_result"
    },
    {
     "data": {
      "image/png": "[encoded data removed]",
      "text/plain": [
       "<Figure size 432x288 with 1 Axes>"
      ]
     },
     "metadata": {},
     "output_type": "display_data"
    }
   ],
   "source": [
    "x = np.arange(len(dog_stage_favor_count))\n",
    "y1 = dog_stage_favor_count.values\n",
    "y2 = dog_stage_retweet_count.values\n",
    "plt.bar(x,y1,width = 0.5, facecolor = 'yellowgreen',edgecolor = 'white');\n",
    "plt.bar(x+0.5,y2,width = 0.5, facecolor = 'lightskyblue',edgecolor = 'white');\n",
    "plt.xlabel('Dog Stage')\n",
    "plt.ylabel('Counts');\n",
    "plt.xticks(x+0.25, dog_stage_favor_count.index);\n",
    "plt.title('Favorite(yellowgreen)  Retweet(skyblue)')"
   ]
  },
  {
   "cell_type": "markdown",
   "metadata": {},
   "source": [
    "**分析与结论**\n",
    "- 从上图可以看出，pupper地位的狗最受粉丝喜欢，这类狗的转发和点赞数最高，其次是doggo地位的狗，而floofer和puppo地位的狗相对没有那么受粉丝喜欢。\n",
    "\n",
    "### 3.4 探索的问题4:\n",
    "\n",
    "**随着时间的推移，点赞数和转发数是怎么变化的？**"
   ]
  },
  {
   "cell_type": "code",
   "execution_count": 73,
   "metadata": {},
   "outputs": [],
   "source": [
    "time_favor_retwe = twitter_master[['timestamp','favorite_count','retweet_count']].sort_values(by = 'timestamp')"
   ]
  },
  {
   "cell_type": "code",
   "execution_count": 74,
   "metadata": {},
   "outputs": [
    {
     "name": "stderr",
     "output_type": "stream",
     "text": [
      "C:\\Anaconda\\envs\\py3\\lib\\site-packages\\ipykernel\\__main__.py:3: FutureWarning: pd.rolling_mean is deprecated for Series and will be removed in a future version, replace with \n",
      "\tSeries.rolling(window=20,center=False).mean()\n",
      "  app.launch_new_instance()\n",
      "C:\\Anaconda\\envs\\py3\\lib\\site-packages\\ipykernel\\__main__.py:4: FutureWarning: pd.rolling_mean is deprecated for Series and will be removed in a future version, replace with \n",
      "\tSeries.rolling(window=20,center=False).mean()\n"
     ]
    }
   ],
   "source": [
    "#计算移动平均数\n",
    "x = time_favor_retwe['timestamp']\n",
    "y1 = pd.rolling_mean(time_favor_retwe['favorite_count'],20).values\n",
    "y2 = pd.rolling_mean(time_favor_retwe['retweet_count'],20).values"
   ]
  },
  {
   "cell_type": "code",
   "execution_count": 75,
   "metadata": {},
   "outputs": [
    {
     "data": {
      "image/png": "[encoded data removed]",
      "text/plain": [
       "<Figure size 1440x576 with 1 Axes>"
      ]
     },
     "metadata": {},
     "output_type": "display_data"
    }
   ],
   "source": [
    "plt.figure(figsize=(20,8))\n",
    "plt.plot(x,y1);\n",
    "plt.plot(x,y2);\n",
    "plt.xlabel('Time');\n",
    "plt.ylabel('Counts');\n",
    "plt.title('Favorite(blue)  Retweet(orange)');"
   ]
  },
  {
   "cell_type": "markdown",
   "metadata": {},
   "source": [
    "**分析与结论**\n",
    "- 从上图可以看出，随着时间的推移，点赞数有明显的上升趋势，转发数有上升，但是趋势不明显。\n",
    "- 从上图可以看出，点赞数一直高于转发数，在推特上可能是人们更喜欢用点赞来表示对推特内容的喜欢，点赞这个行为比转发更容易。\n",
    "- 可能因为推特主的粉丝数量的上升，导致有这样明显在数量上升，如果用点赞数与阅读的用户数比值更能直接反映人们是否越来月喜欢狗。"
   ]
  },
  {
   "cell_type": "markdown",
   "metadata": {},
   "source": [
    "<a id=\"conculsion\">"
   ]
  },
  {
   "cell_type": "markdown",
   "metadata": {},
   "source": [
    "## 4.结论\n",
    "\n",
    "- 1.通过分析推特主发推特的时间，发现推特主习惯于凌晨0点1点2点3点及下午16点17点这些发推特，从上午6点到下午14点发推特比较少或没有。在一周当中，周一到周日发推特数量差不多，没有明显变化，周一最多，周末相对较少。\n",
    "- 2.通过分析不同地位的狗对应的点赞数和转发数发现，pupper地位的狗最受粉丝喜欢，这类狗的转发和点赞数最高，其次是doggo地位的狗，而floofer和puppo地位的狗相对没有那么受粉丝喜欢。\n",
    "- 3.分析随着时间的推移，点赞数和转发数的变化趋势，可以看出随着时间推移点赞数有明显的上升趋势，转发数有上升，但是趋势不明显。可以判断推特内容收到越来越多的关注。点赞数一直高于转发数，在推特上可能是人们更喜欢用点赞来表示对推特内容的喜欢，点赞这个行为比转发更容易。可能因为推特主的粉丝数量的上升，导致有这样明显在数量上升，如果用点赞数与阅读的用户数比值更能直接反映人们是否越来月喜欢狗。\n",
    "- 4.转发数和点赞数有高度相关，相关系数是0.91，这个也符合常理，点赞和转发都是对其内容喜欢的表现。推特主对狗的评分与转发数和点赞数有低度相关，相关系数分别是0.30和0.40,说明每个人对狗都有自己的偏好，推特主的评分不能完全代表粉丝群对狗的评分。\n",
    "\n",
    "    **局限性说明**\n",
    "1. 尽可能的整理和清洗了数据，但不能保证对数据做到了100%的清洗及整理。\n",
    "2. 关于点赞数，转发数，以及推特主的评分之间的关系，只是探索了相关关系，而不是他们之间的因果关系。\n",
    "3. 时间推移，转发数和点赞数的趋势，没有考虑推特粉丝的数量，如果能分析转发数和点赞数在推特内容阅读的用户数的占比，可能更有说服力。"
   ]
  },
  {
   "cell_type": "code",
   "execution_count": null,
   "metadata": {},
   "outputs": [],
   "source": []
  }
 ],
 "metadata": {
  "kernelspec": {
   "display_name": "Python [conda env:py3]",
   "language": "python",
   "name": "conda-env-py3-py"
  },
  "language_info": {
   "codemirror_mode": {
    "name": "ipython",
    "version": 3
   },
   "file_extension": ".py",
   "mimetype": "text/x-python",
   "name": "python",
   "nbconvert_exporter": "python",
   "pygments_lexer": "ipython3",
   "version": "3.6.5"
  },
  "toc": {
   "base_numbering": 1,
   "nav_menu": {},
   "number_sections": false,
   "sideBar": true,
   "skip_h1_title": false,
   "title_cell": "Table of Contents",
   "title_sidebar": "Contents",
   "toc_cell": false,
   "toc_position": {
    "height": "calc(100% - 180px)",
    "left": "10px",
    "top": "150px",
    "width": "273px"
   },
   "toc_section_display": true,
   "toc_window_display": true
  }
 },
 "nbformat": 4,
 "nbformat_minor": 2
}
